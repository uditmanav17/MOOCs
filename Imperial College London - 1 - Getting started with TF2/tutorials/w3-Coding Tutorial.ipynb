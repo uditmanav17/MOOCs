{
 "cells": [
  {
   "cell_type": "code",
   "execution_count": 1,
   "metadata": {
    "scrolled": true
   },
   "outputs": [
    {
     "name": "stdout",
     "output_type": "stream",
     "text": [
      "2.0.0\n"
     ]
    }
   ],
   "source": [
    "import tensorflow as tf\n",
    "print(tf.__version__)"
   ]
  },
  {
   "cell_type": "markdown",
   "metadata": {},
   "source": [
    "# Validation, regularisation and callbacks"
   ]
  },
  {
   "cell_type": "markdown",
   "metadata": {},
   "source": [
    " ## Coding tutorials\n",
    " #### [1. Validation sets](#coding_tutorial_1)\n",
    " #### [2. Model regularisation](#coding_tutorial_2)\n",
    " #### [3. Introduction to callbacks](#coding_tutorial_3)\n",
    " #### [4. Early stopping / patience](#coding_tutorial_4)"
   ]
  },
  {
   "cell_type": "markdown",
   "metadata": {},
   "source": [
    "***\n",
    "<a id=\"coding_tutorial_1\"></a>\n",
    "## Validation sets"
   ]
  },
  {
   "cell_type": "markdown",
   "metadata": {},
   "source": [
    "#### Load the data"
   ]
  },
  {
   "cell_type": "code",
   "execution_count": 2,
   "metadata": {},
   "outputs": [
    {
     "name": "stdout",
     "output_type": "stream",
     "text": [
      "diabetes_dataset - ['DESCR', 'data', 'data_filename', 'feature_names', 'target', 'target_filename']\n",
      ".. _diabetes_dataset:\n",
      "\n",
      "Diabetes dataset\n",
      "----------------\n",
      "\n",
      "Ten baseline variables, age, sex, body mass index, average blood\n",
      "pressure, and six blood serum measurements were obtained for each of n =\n",
      "442 diabetes patients, as well as the response of interest, a\n",
      "quantitative measure of disease progression one year after baseline.\n",
      "\n",
      "**Data Set Characteristics:**\n",
      "\n",
      "  :Number of Instances: 442\n",
      "\n",
      "  :Number of Attributes: First 10 columns are numeric predictive values\n",
      "\n",
      "  :Target: Column 11 is a quantitative measure of disease progression one year after baseline\n",
      "\n",
      "  :Attribute Information:\n",
      "      - Age\n",
      "      - Sex\n",
      "      - Body mass index\n",
      "      - Average blood pressure\n",
      "      - S1\n",
      "      - S2\n",
      "      - S3\n",
      "      - S4\n",
      "      - S5\n",
      "      - S6\n",
      "\n",
      "Note: Each of these 10 feature variables have been mean centered and scaled by the standard deviation times `n_samples` (i.e. the sum of squares of each column totals 1).\n",
      "\n",
      "Source URL:\n",
      "http://www4.stat.ncsu.edu/~boos/var.select/diabetes.html\n",
      "\n",
      "For more information see:\n",
      "Bradley Efron, Trevor Hastie, Iain Johnstone and Robert Tibshirani (2004) \"Least Angle Regression,\" Annals of Statistics (with discussion), 407-499.\n",
      "(http://web.stanford.edu/~hastie/Papers/LARS/LeastAngle_2002.pdf)\n"
     ]
    }
   ],
   "source": [
    "# Load the diabetes dataset\n",
    "from sklearn.datasets import load_diabetes\n",
    "\n",
    "diabetes_dataset = load_diabetes()\n",
    "print(f\"diabetes_dataset - {dir(diabetes_dataset)}\")\n",
    "print(diabetes_dataset['DESCR'])\n"
   ]
  },
  {
   "cell_type": "code",
   "execution_count": 3,
   "metadata": {},
   "outputs": [
    {
     "name": "stdout",
     "output_type": "stream",
     "text": [
      "<class 'sklearn.utils.Bunch'>\n",
      "dict_keys(['data', 'target', 'DESCR', 'feature_names', 'data_filename', 'target_filename'])\n",
      "data.shape - (442, 10)\n",
      "target.shape - (442,)\n"
     ]
    }
   ],
   "source": [
    "# Save the input and target variables\n",
    "print(type(diabetes_dataset))\n",
    "print(diabetes_dataset.keys())\n",
    "\n",
    "data = diabetes_dataset['data']\n",
    "print(f\"data.shape - {data.shape}\")\n",
    "targets = diabetes_dataset['target']\n",
    "print(f\"target.shape - {targets.shape}\")"
   ]
  },
  {
   "cell_type": "code",
   "execution_count": 4,
   "metadata": {},
   "outputs": [
    {
     "data": {
      "text/plain": [
       "array([-1.47194752e-02, -1.00165882e+00, -1.44579915e-01,  6.99512942e-01,\n",
       "       -2.22496178e-01, -7.15965848e-01, -1.83538046e-01, -1.15749134e+00,\n",
       "       -5.47147277e-01,  2.05006151e+00, -6.64021672e-01, -1.07957508e+00,\n",
       "        3.48889755e-01,  4.26806019e-01, -4.43258925e-01,  2.45001404e-01,\n",
       "        1.80071184e-01, -1.05621783e-01, -7.15965848e-01,  2.06043272e-01,\n",
       "       -1.09256112e+00, -1.33929596e+00, -1.09256112e+00,  1.20596866e+00,\n",
       "        4.13819975e-01,  6.47568766e-01, -1.96524090e-01, -8.71798376e-01,\n",
       "       -2.74440354e-01,  1.69943833e+00, -3.00412442e-01, -1.20943552e+00,\n",
       "        2.45262887e+00, -8.45826288e-01, -1.13151925e+00, -6.51035629e-01,\n",
       "        1.46568953e+00,  1.60853602e+00,  1.29687096e+00, -8.06868156e-01,\n",
       "       -6.77007716e-01, -1.26137969e+00, -1.18346343e+00, -7.80896068e-01,\n",
       "        1.38777327e+00, -1.28735178e+00,  4.91736239e-01, -1.31593871e-01,\n",
       "       -1.00165882e+00, -1.31593871e-01,  3.72247006e-02,  9.46247777e-01,\n",
       "       -1.20943552e+00, -6.25063541e-01,  3.87847887e-01, -3.13398486e-01,\n",
       "       -1.30033783e+00, -1.49512849e+00,  2.32015360e-01,  2.32015360e-01,\n",
       "       -1.18346343e+00, -1.05621783e-01, -1.30033783e+00, -3.13398486e-01,\n",
       "       -1.05360299e+00,  1.41113052e-01, -2.77055191e-02, -7.15965848e-01,\n",
       "        1.02154920e-01,  3.35903711e-01, -1.35228200e+00,  1.53061975e+00,\n",
       "        6.47568766e-01, -5.34161233e-01, -8.71798376e-01, -1.43019827e+00,\n",
       "        2.32015360e-01,  6.21596678e-01,  1.29687096e+00, -5.08189145e-01,\n",
       "       -1.18607827e-01, -1.31332387e+00, -1.30033783e+00,  7.51457118e-01,\n",
       "       -1.13151925e+00, -1.44579915e-01, -1.26137969e+00, -2.35482222e-01,\n",
       "       -1.43019827e+00, -5.34161233e-01, -7.02979804e-01,  1.54099096e-01,\n",
       "       -1.35228200e+00, -7.28951892e-01, -8.06868156e-01,  1.28127008e-01,\n",
       "       -2.77055191e-02,  1.64749415e+00, -7.80896068e-01, -8.97770464e-01,\n",
       "       -3.13398486e-01, -6.51035629e-01,  1.94617316e+00,  5.95624590e-01,\n",
       "       -7.41937936e-01, -1.28735178e+00, -2.35482222e-01, -1.05621783e-01,\n",
       "        1.03715008e+00, -9.23742551e-01, -6.25063541e-01, -1.20943552e+00,\n",
       "        1.21895470e+00,  1.88124294e+00,  1.37478723e+00,  9.98191953e-01,\n",
       "        1.59554997e+00,  1.67346624e+00,  3.48889755e-01,  6.21596678e-01,\n",
       "        6.21596678e-01,  2.70973492e-01,  3.61875799e-01, -8.84784420e-01,\n",
       "       -4.04300794e-01,  1.15140964e-01, -6.89993760e-01, -5.60133321e-01,\n",
       "       -4.82217057e-01,  1.50464767e+00,  1.58256393e+00,  7.61828325e-02,\n",
       "       -5.86105409e-01, -8.97770464e-01, -6.38049585e-01,  1.55659184e+00,\n",
       "       -8.71798376e-01,  1.66048019e+00,  2.38769865e+00,  1.67346624e+00,\n",
       "       -4.43258925e-01,  2.14096382e+00,  1.07610822e+00, -1.19644947e+00,\n",
       "        2.83959536e-01,  1.38777327e+00,  3.35903711e-01, -3.13398486e-01,\n",
       "       -7.28951892e-01, -3.39370574e-01,  1.76436855e+00, -8.32840244e-01,\n",
       "        1.81631272e+00, -1.05360299e+00,  5.82638546e-01,  4.39792063e-01,\n",
       "       -1.65096101e+00, -8.84784420e-01, -7.28951892e-01,  5.56666458e-01,\n",
       "       -1.28735178e+00,  8.42359425e-01,  2.57987448e-01, -2.74440354e-01,\n",
       "        8.03401293e-01, -1.20943552e+00, -1.06658903e+00,  8.81317557e-01,\n",
       "        1.50464767e+00, -1.73343121e-03, -1.36526805e+00, -1.01464486e+00,\n",
       "        1.85527085e+00, -6.64021672e-01, -1.47194752e-02, -3.26384530e-01,\n",
       "        1.10208030e+00,  9.46247777e-01, -9.23742551e-01, -1.47194752e-02,\n",
       "       -5.86105409e-01, -1.14450530e+00, -1.83538046e-01,  4.26806019e-01,\n",
       "        1.46568953e+00, -6.64021672e-01, -1.96524090e-01, -1.18607827e-01,\n",
       "       -1.44579915e-01, -9.49714639e-01,  1.81631272e+00,  3.35903711e-01,\n",
       "       -7.93882112e-01, -4.69231013e-01, -8.58812332e-01, -3.91314750e-01,\n",
       "       -1.04061695e+00, -3.00412442e-01, -1.31593871e-01, -8.06868156e-01,\n",
       "        7.61828325e-02, -1.46915640e+00,  5.69652502e-01,  9.07289645e-01,\n",
       "        1.62152206e+00, -6.89993760e-01,  5.69652502e-01,  6.47568766e-01,\n",
       "        3.72247006e-02, -9.75686727e-01,  5.04722283e-01, -1.06658903e+00,\n",
       "       -1.02763090e+00, -1.33929596e+00, -1.13151925e+00,  1.43971745e+00,\n",
       "        1.24492679e+00,  1.86825690e+00,  8.03401293e-01,  4.26806019e-01,\n",
       "       -9.62700683e-01, -7.67910024e-01,  1.29687096e+00, -2.77055191e-02,\n",
       "       -9.75686727e-01,  7.25485030e-01, -9.75686727e-01, -5.73119365e-01,\n",
       "        1.02154920e-01, -1.28735178e+00,  8.81317557e-01,  2.42386567e-02,\n",
       "        1.38777327e+00, -8.06868156e-01,  1.21895470e+00, -3.65342662e-01,\n",
       "       -1.10554717e+00, -1.04061695e+00,  1.36180118e+00,  1.42673140e+00,\n",
       "        1.59554997e+00,  3.22917667e-01, -1.05360299e+00, -1.36526805e+00,\n",
       "        4.52778107e-01, -3.52356618e-01, -9.62700683e-01, -1.31332387e+00,\n",
       "        1.37478723e+00,  8.16387337e-01,  1.95915920e+00,  1.17999657e+00,\n",
       "       -7.93882112e-01, -2.77055191e-02,  2.05006151e+00,  1.12526127e-02,\n",
       "        2.51755909e+00, -1.15749134e+00, -8.19854200e-01, -1.32630991e+00,\n",
       "       -1.46915640e+00, -6.38049585e-01,  2.02408942e+00, -4.69231013e-01,\n",
       "       -9.26357388e-02, -1.01464486e+00, -1.39124013e+00, -4.82217057e-01,\n",
       "        1.45270349e+00, -8.45826288e-01,  6.47568766e-01, -3.26384530e-01,\n",
       "        3.87847887e-01,  1.15402448e+00, -1.11853321e+00, -7.54923980e-01,\n",
       "        1.69943833e+00, -1.14450530e+00, -6.51035629e-01,  6.21596678e-01,\n",
       "        1.46568953e+00, -7.54923980e-01,  1.01117800e+00,  3.74861843e-01,\n",
       "        5.02107446e-02,  1.05013613e+00, -1.19644947e+00,  8.68331513e-01,\n",
       "       -9.36728595e-01, -1.09256112e+00,  2.33575448e+00,  1.24492679e+00,\n",
       "       -8.84784420e-01,  6.21596678e-01, -1.26137969e+00, -8.71798376e-01,\n",
       "       -8.19854200e-01, -1.57304475e+00, -3.00412442e-01, -8.97770464e-01,\n",
       "        1.59554997e+00, -1.13151925e+00,  5.95624590e-01,  1.08909426e+00,\n",
       "        1.30985701e+00, -3.65342662e-01, -1.40422618e+00,  2.57987448e-01,\n",
       "       -4.95203101e-01, -1.31593871e-01, -5.60133321e-01,  3.61875799e-01,\n",
       "       -1.05621783e-01,  1.41113052e-01, -6.66636509e-02, -7.15965848e-01,\n",
       "        8.81317557e-01,  4.91736239e-01, -5.60133321e-01,  5.04722283e-01,\n",
       "       -3.91314750e-01,  1.01117800e+00,  1.16701052e+00,  1.24492679e+00,\n",
       "        1.25791283e+00,  5.17708327e-01, -2.74440354e-01,  1.10208030e+00,\n",
       "       -9.62700683e-01, -2.22496178e-01,  1.19298261e+00,  6.08610634e-01,\n",
       "        1.53061975e+00,  1.54099096e-01, -1.04061695e+00, -7.28951892e-01,\n",
       "        1.99811734e+00, -7.93882112e-01,  8.03401293e-01, -7.41937936e-01,\n",
       "        8.29373381e-01,  1.43971745e+00,  3.35903711e-01, -5.08189145e-01,\n",
       "        6.21596678e-01, -1.70552003e-01, -1.70552003e-01, -8.32840244e-01,\n",
       "       -5.36776070e-02, -8.32840244e-01,  1.17999657e+00, -1.05360299e+00,\n",
       "       -9.75686727e-01, -5.60133321e-01,  1.55659184e+00, -1.19644947e+00,\n",
       "       -1.27436574e+00,  8.94303601e-01, -8.06868156e-01,  2.06304756e+00,\n",
       "        1.67346624e+00,  3.87847887e-01,  2.19290800e+00, -1.22242156e+00,\n",
       "        1.42673140e+00,  6.99512942e-01,  1.05013613e+00,  1.16701052e+00,\n",
       "       -3.78328706e-01,  1.93057228e-01, -1.15749134e+00,  5.82638546e-01,\n",
       "       -1.05360299e+00,  2.06043272e-01, -1.57565959e-01,  8.42359425e-01,\n",
       "       -4.04300794e-01,  1.07610822e+00,  1.20596866e+00, -1.45617035e+00,\n",
       "       -1.30033783e+00, -6.25063541e-01, -2.61454310e-01, -8.32840244e-01,\n",
       "       -1.07957508e+00,  8.68331513e-01, -1.04061695e+00,  6.34582722e-01,\n",
       "       -5.47147277e-01, -1.31332387e+00,  1.62152206e+00, -1.15749134e+00,\n",
       "       -4.43258925e-01, -1.07957508e+00,  1.56957789e+00,  1.37478723e+00,\n",
       "       -1.41721222e+00,  5.95624590e-01,  1.16701052e+00,  1.03715008e+00,\n",
       "        2.96945580e-01, -7.67910024e-01,  2.06043272e-01,  1.59554997e+00,\n",
       "        1.82929877e+00,  1.67346624e+00, -1.04061695e+00, -1.57565959e-01,\n",
       "        4.78750195e-01,  3.74861843e-01,  7.38471074e-01, -2.09510134e-01,\n",
       "        1.41374536e+00, -5.08189145e-01, -2.74440354e-01,  2.83959536e-01,\n",
       "        1.36180118e+00, -1.26137969e+00, -8.84784420e-01, -1.43019827e+00,\n",
       "       -7.96496949e-02,  7.77429206e-01,  1.05013613e+00, -7.93882112e-01,\n",
       "       -5.34161233e-01, -1.73343121e-03, -4.17286837e-01, -1.10554717e+00,\n",
       "        2.05006151e+00, -7.54923980e-01,  4.00833931e-01, -1.11853321e+00,\n",
       "        2.70973492e-01, -1.04061695e+00, -1.33929596e+00, -1.14450530e+00,\n",
       "       -1.35228200e+00,  3.35903711e-01, -6.25063541e-01, -2.61454310e-01,\n",
       "        8.81317557e-01, -1.23540761e+00])"
      ]
     },
     "execution_count": 4,
     "metadata": {},
     "output_type": "execute_result"
    }
   ],
   "source": [
    "# Normalise the target data (this will make clearer training curves)\n",
    "targets = (targets - targets.mean(axis=0)) / targets.std()\n",
    "targets"
   ]
  },
  {
   "cell_type": "code",
   "execution_count": 5,
   "metadata": {},
   "outputs": [
    {
     "name": "stdout",
     "output_type": "stream",
     "text": [
      "train_data.shape - (397, 10)\n",
      "test_data.shape - (45, 10)\n",
      "train_targets.shape - (397,)\n",
      "test_targets.shape - (45,)\n"
     ]
    }
   ],
   "source": [
    "# Split the data into train and test sets\n",
    "from sklearn.model_selection import train_test_split\n",
    "\n",
    "train_data, test_data, train_targets, test_targets = train_test_split(data, targets, test_size=0.1)\n",
    "\n",
    "print(f\"train_data.shape - {train_data.shape}\")\n",
    "print(f\"test_data.shape - {test_data.shape}\")\n",
    "print(f\"train_targets.shape - {train_targets.shape}\")\n",
    "print(f\"test_targets.shape - {test_targets.shape}\")\n"
   ]
  },
  {
   "cell_type": "markdown",
   "metadata": {},
   "source": [
    "#### Train a feedforward neural network model"
   ]
  },
  {
   "cell_type": "code",
   "execution_count": 6,
   "metadata": {},
   "outputs": [],
   "source": [
    "# Build the model\n",
    "from tensorflow.keras.models import Sequential \n",
    "from tensorflow.keras.layers import Dense\n",
    "\n",
    "def get_model():\n",
    "    model = Sequential([\n",
    "        Dense(128, activation='relu', input_shape=(train_data.shape[1], )),\n",
    "        Dense(128, activation='relu'), \n",
    "        Dense(128, activation='relu'), \n",
    "        Dense(128, activation='relu'), \n",
    "        Dense(128, activation='relu'), \n",
    "        Dense(128, activation='relu'), \n",
    "        Dense(1)\n",
    "    ])\n",
    "    return model\n",
    "\n",
    "model = get_model()    \n"
   ]
  },
  {
   "cell_type": "code",
   "execution_count": 7,
   "metadata": {},
   "outputs": [
    {
     "name": "stdout",
     "output_type": "stream",
     "text": [
      "Model: \"sequential\"\n",
      "_________________________________________________________________\n",
      "Layer (type)                 Output Shape              Param #   \n",
      "=================================================================\n",
      "dense (Dense)                (None, 128)               1408      \n",
      "_________________________________________________________________\n",
      "dense_1 (Dense)              (None, 128)               16512     \n",
      "_________________________________________________________________\n",
      "dense_2 (Dense)              (None, 128)               16512     \n",
      "_________________________________________________________________\n",
      "dense_3 (Dense)              (None, 128)               16512     \n",
      "_________________________________________________________________\n",
      "dense_4 (Dense)              (None, 128)               16512     \n",
      "_________________________________________________________________\n",
      "dense_5 (Dense)              (None, 128)               16512     \n",
      "_________________________________________________________________\n",
      "dense_6 (Dense)              (None, 1)                 129       \n",
      "=================================================================\n",
      "Total params: 84,097\n",
      "Trainable params: 84,097\n",
      "Non-trainable params: 0\n",
      "_________________________________________________________________\n",
      "None\n"
     ]
    }
   ],
   "source": [
    "# Print the model summary\n",
    "print(model.summary())    \n"
   ]
  },
  {
   "cell_type": "code",
   "execution_count": 8,
   "metadata": {},
   "outputs": [],
   "source": [
    "# Compile the model\n",
    "model.compile(optimizer='adam', loss='mse', metrics=['mae'])\n"
   ]
  },
  {
   "cell_type": "code",
   "execution_count": 9,
   "metadata": {},
   "outputs": [
    {
     "name": "stdout",
     "output_type": "stream",
     "text": [
      "Train on 337 samples, validate on 60 samples\n",
      "Epoch 1/100\n",
      "337/337 - 2s - loss: 1.0461 - mae: 0.8813 - val_loss: 0.7649 - val_mae: 0.7429\n",
      "Epoch 2/100\n",
      "337/337 - 0s - loss: 0.9516 - mae: 0.8445 - val_loss: 0.6526 - val_mae: 0.6878\n",
      "Epoch 3/100\n",
      "337/337 - 0s - loss: 0.7195 - mae: 0.7377 - val_loss: 0.5503 - val_mae: 0.6068\n",
      "Epoch 4/100\n",
      "337/337 - 0s - loss: 0.5444 - mae: 0.5835 - val_loss: 0.5458 - val_mae: 0.5905\n",
      "Epoch 5/100\n",
      "337/337 - 0s - loss: 0.4945 - mae: 0.5502 - val_loss: 0.4731 - val_mae: 0.5581\n",
      "Epoch 6/100\n",
      "337/337 - 0s - loss: 0.4724 - mae: 0.5543 - val_loss: 0.5515 - val_mae: 0.6127\n",
      "Epoch 7/100\n",
      "337/337 - 0s - loss: 0.4653 - mae: 0.5408 - val_loss: 0.4363 - val_mae: 0.5107\n",
      "Epoch 8/100\n",
      "337/337 - 0s - loss: 0.4567 - mae: 0.5316 - val_loss: 0.5666 - val_mae: 0.6229\n",
      "Epoch 9/100\n",
      "337/337 - 0s - loss: 0.4575 - mae: 0.5295 - val_loss: 0.5071 - val_mae: 0.5766\n",
      "Epoch 10/100\n",
      "337/337 - 0s - loss: 0.4767 - mae: 0.5502 - val_loss: 0.4602 - val_mae: 0.5254\n",
      "Epoch 11/100\n",
      "337/337 - 0s - loss: 0.4495 - mae: 0.5230 - val_loss: 0.5350 - val_mae: 0.5786\n",
      "Epoch 12/100\n",
      "337/337 - 0s - loss: 0.4213 - mae: 0.5105 - val_loss: 0.4910 - val_mae: 0.5497\n",
      "Epoch 13/100\n",
      "337/337 - 0s - loss: 0.4101 - mae: 0.5094 - val_loss: 0.5010 - val_mae: 0.5630\n",
      "Epoch 14/100\n",
      "337/337 - 0s - loss: 0.4156 - mae: 0.5045 - val_loss: 0.6927 - val_mae: 0.6895\n",
      "Epoch 15/100\n",
      "337/337 - 0s - loss: 0.4546 - mae: 0.5371 - val_loss: 0.5336 - val_mae: 0.5634\n",
      "Epoch 16/100\n",
      "337/337 - 0s - loss: 0.4922 - mae: 0.5457 - val_loss: 0.6483 - val_mae: 0.6589\n",
      "Epoch 17/100\n",
      "337/337 - 0s - loss: 0.4492 - mae: 0.5446 - val_loss: 0.5090 - val_mae: 0.5455\n",
      "Epoch 18/100\n",
      "337/337 - 0s - loss: 0.4010 - mae: 0.4999 - val_loss: 0.5105 - val_mae: 0.5423\n",
      "Epoch 19/100\n",
      "337/337 - 0s - loss: 0.3903 - mae: 0.4864 - val_loss: 0.5444 - val_mae: 0.5698\n",
      "Epoch 20/100\n",
      "337/337 - 0s - loss: 0.3898 - mae: 0.4852 - val_loss: 0.5660 - val_mae: 0.5942\n",
      "Epoch 21/100\n",
      "337/337 - 0s - loss: 0.3931 - mae: 0.4973 - val_loss: 0.4827 - val_mae: 0.5206\n",
      "Epoch 22/100\n",
      "337/337 - 0s - loss: 0.3968 - mae: 0.4880 - val_loss: 0.5441 - val_mae: 0.5828\n",
      "Epoch 23/100\n",
      "337/337 - 0s - loss: 0.3694 - mae: 0.4747 - val_loss: 0.5086 - val_mae: 0.5418\n",
      "Epoch 24/100\n",
      "337/337 - 0s - loss: 0.3612 - mae: 0.4703 - val_loss: 0.5270 - val_mae: 0.5613\n",
      "Epoch 25/100\n",
      "337/337 - 0s - loss: 0.3476 - mae: 0.4597 - val_loss: 0.5274 - val_mae: 0.5469\n",
      "Epoch 26/100\n",
      "337/337 - 0s - loss: 0.3493 - mae: 0.4523 - val_loss: 0.5344 - val_mae: 0.5390\n",
      "Epoch 27/100\n",
      "337/337 - 0s - loss: 0.3474 - mae: 0.4548 - val_loss: 0.6069 - val_mae: 0.6123\n",
      "Epoch 28/100\n",
      "337/337 - 0s - loss: 0.3343 - mae: 0.4585 - val_loss: 0.5309 - val_mae: 0.5479\n",
      "Epoch 29/100\n",
      "337/337 - 0s - loss: 0.3202 - mae: 0.4372 - val_loss: 0.5968 - val_mae: 0.5813\n",
      "Epoch 30/100\n",
      "337/337 - 0s - loss: 0.3262 - mae: 0.4359 - val_loss: 0.6030 - val_mae: 0.5865\n",
      "Epoch 31/100\n",
      "337/337 - 0s - loss: 0.3097 - mae: 0.4341 - val_loss: 0.6309 - val_mae: 0.6132\n",
      "Epoch 32/100\n",
      "337/337 - 0s - loss: 0.2969 - mae: 0.4210 - val_loss: 0.5771 - val_mae: 0.5536\n",
      "Epoch 33/100\n",
      "337/337 - 0s - loss: 0.3358 - mae: 0.4470 - val_loss: 0.6744 - val_mae: 0.6560\n",
      "Epoch 34/100\n",
      "337/337 - 0s - loss: 0.3254 - mae: 0.4454 - val_loss: 0.8141 - val_mae: 0.7381\n",
      "Epoch 35/100\n",
      "337/337 - 0s - loss: 0.3416 - mae: 0.4496 - val_loss: 0.5988 - val_mae: 0.5608\n",
      "Epoch 36/100\n",
      "337/337 - 0s - loss: 0.2896 - mae: 0.4134 - val_loss: 0.7397 - val_mae: 0.6857\n",
      "Epoch 37/100\n",
      "337/337 - 0s - loss: 0.2696 - mae: 0.3975 - val_loss: 0.6248 - val_mae: 0.5789\n",
      "Epoch 38/100\n",
      "337/337 - 0s - loss: 0.2684 - mae: 0.3997 - val_loss: 0.6119 - val_mae: 0.5779\n",
      "Epoch 39/100\n",
      "337/337 - 0s - loss: 0.3419 - mae: 0.4476 - val_loss: 0.8430 - val_mae: 0.7523\n",
      "Epoch 40/100\n",
      "337/337 - 0s - loss: 0.3322 - mae: 0.4476 - val_loss: 0.6270 - val_mae: 0.6044\n",
      "Epoch 41/100\n",
      "337/337 - 0s - loss: 0.3349 - mae: 0.4557 - val_loss: 0.5904 - val_mae: 0.5818\n",
      "Epoch 42/100\n",
      "337/337 - 0s - loss: 0.3053 - mae: 0.4236 - val_loss: 0.8083 - val_mae: 0.7200\n",
      "Epoch 43/100\n",
      "337/337 - 0s - loss: 0.2724 - mae: 0.4038 - val_loss: 0.6116 - val_mae: 0.5848\n",
      "Epoch 44/100\n",
      "337/337 - 0s - loss: 0.2503 - mae: 0.3928 - val_loss: 0.6437 - val_mae: 0.5953\n",
      "Epoch 45/100\n",
      "337/337 - 0s - loss: 0.2388 - mae: 0.3801 - val_loss: 0.8111 - val_mae: 0.6912\n",
      "Epoch 46/100\n",
      "337/337 - 0s - loss: 0.2556 - mae: 0.3809 - val_loss: 0.7229 - val_mae: 0.6461\n",
      "Epoch 47/100\n",
      "337/337 - 0s - loss: 0.2269 - mae: 0.3700 - val_loss: 0.6996 - val_mae: 0.6172\n",
      "Epoch 48/100\n",
      "337/337 - 0s - loss: 0.2149 - mae: 0.3563 - val_loss: 0.7810 - val_mae: 0.6620\n",
      "Epoch 49/100\n",
      "337/337 - 0s - loss: 0.2176 - mae: 0.3614 - val_loss: 0.7243 - val_mae: 0.6363\n",
      "Epoch 50/100\n",
      "337/337 - 0s - loss: 0.1916 - mae: 0.3474 - val_loss: 0.7763 - val_mae: 0.6540\n",
      "Epoch 51/100\n",
      "337/337 - 0s - loss: 0.2066 - mae: 0.3386 - val_loss: 0.7544 - val_mae: 0.6443\n",
      "Epoch 52/100\n",
      "337/337 - 0s - loss: 0.1803 - mae: 0.3412 - val_loss: 0.8044 - val_mae: 0.7015\n",
      "Epoch 53/100\n",
      "337/337 - 0s - loss: 0.1695 - mae: 0.3198 - val_loss: 0.9417 - val_mae: 0.7630\n",
      "Epoch 54/100\n",
      "337/337 - 0s - loss: 0.2117 - mae: 0.3611 - val_loss: 0.8248 - val_mae: 0.6967\n",
      "Epoch 55/100\n",
      "337/337 - 0s - loss: 0.2043 - mae: 0.3558 - val_loss: 0.7521 - val_mae: 0.6553\n",
      "Epoch 56/100\n",
      "337/337 - 0s - loss: 0.2226 - mae: 0.3732 - val_loss: 0.7303 - val_mae: 0.6400\n",
      "Epoch 57/100\n",
      "337/337 - 0s - loss: 0.1843 - mae: 0.3388 - val_loss: 0.8229 - val_mae: 0.7033\n",
      "Epoch 58/100\n",
      "337/337 - 0s - loss: 0.1799 - mae: 0.3199 - val_loss: 0.7381 - val_mae: 0.6295\n",
      "Epoch 59/100\n",
      "337/337 - 0s - loss: 0.1651 - mae: 0.3136 - val_loss: 0.7597 - val_mae: 0.6531\n",
      "Epoch 60/100\n",
      "337/337 - 0s - loss: 0.1987 - mae: 0.3434 - val_loss: 0.8262 - val_mae: 0.7008\n",
      "Epoch 61/100\n",
      "337/337 - 0s - loss: 0.1653 - mae: 0.3158 - val_loss: 0.8641 - val_mae: 0.7254\n",
      "Epoch 62/100\n",
      "337/337 - 0s - loss: 0.1489 - mae: 0.2986 - val_loss: 0.7512 - val_mae: 0.6420\n",
      "Epoch 63/100\n",
      "337/337 - 0s - loss: 0.1445 - mae: 0.2976 - val_loss: 0.8021 - val_mae: 0.6666\n",
      "Epoch 64/100\n",
      "337/337 - 0s - loss: 0.1362 - mae: 0.2828 - val_loss: 0.8393 - val_mae: 0.6825\n",
      "Epoch 65/100\n",
      "337/337 - 0s - loss: 0.1180 - mae: 0.2615 - val_loss: 0.8896 - val_mae: 0.7243\n",
      "Epoch 66/100\n",
      "337/337 - 0s - loss: 0.1294 - mae: 0.2800 - val_loss: 0.8771 - val_mae: 0.6870\n",
      "Epoch 67/100\n",
      "337/337 - 0s - loss: 0.1135 - mae: 0.2542 - val_loss: 0.8517 - val_mae: 0.6818\n",
      "Epoch 68/100\n",
      "337/337 - 0s - loss: 0.1100 - mae: 0.2553 - val_loss: 0.8932 - val_mae: 0.6914\n",
      "Epoch 69/100\n",
      "337/337 - 0s - loss: 0.1123 - mae: 0.2609 - val_loss: 0.8983 - val_mae: 0.7222\n",
      "Epoch 70/100\n",
      "337/337 - 0s - loss: 0.0970 - mae: 0.2385 - val_loss: 0.8283 - val_mae: 0.6713\n",
      "Epoch 71/100\n",
      "337/337 - 0s - loss: 0.0941 - mae: 0.2318 - val_loss: 0.9142 - val_mae: 0.7093\n",
      "Epoch 72/100\n",
      "337/337 - 0s - loss: 0.0923 - mae: 0.2327 - val_loss: 0.9031 - val_mae: 0.6992\n",
      "Epoch 73/100\n",
      "337/337 - 0s - loss: 0.0982 - mae: 0.2404 - val_loss: 0.8823 - val_mae: 0.7041\n",
      "Epoch 74/100\n",
      "337/337 - 0s - loss: 0.1045 - mae: 0.2459 - val_loss: 1.0086 - val_mae: 0.7645\n",
      "Epoch 75/100\n",
      "337/337 - 0s - loss: 0.0975 - mae: 0.2355 - val_loss: 0.9294 - val_mae: 0.7202\n",
      "Epoch 76/100\n",
      "337/337 - 0s - loss: 0.0854 - mae: 0.2245 - val_loss: 0.8808 - val_mae: 0.7015\n",
      "Epoch 77/100\n",
      "337/337 - 0s - loss: 0.0777 - mae: 0.2125 - val_loss: 0.9028 - val_mae: 0.7046\n",
      "Epoch 78/100\n",
      "337/337 - 0s - loss: 0.0945 - mae: 0.2384 - val_loss: 0.9038 - val_mae: 0.6889\n",
      "Epoch 79/100\n",
      "337/337 - 0s - loss: 0.0955 - mae: 0.2328 - val_loss: 0.9849 - val_mae: 0.7430\n",
      "Epoch 80/100\n",
      "337/337 - 0s - loss: 0.1075 - mae: 0.2512 - val_loss: 0.8422 - val_mae: 0.6906\n",
      "Epoch 81/100\n",
      "337/337 - 0s - loss: 0.0886 - mae: 0.2295 - val_loss: 0.8140 - val_mae: 0.6664\n",
      "Epoch 82/100\n",
      "337/337 - 0s - loss: 0.0751 - mae: 0.2082 - val_loss: 0.8695 - val_mae: 0.6860\n",
      "Epoch 83/100\n",
      "337/337 - 0s - loss: 0.0716 - mae: 0.2018 - val_loss: 0.8861 - val_mae: 0.7021\n",
      "Epoch 84/100\n",
      "337/337 - 0s - loss: 0.0594 - mae: 0.1782 - val_loss: 0.8927 - val_mae: 0.6992\n",
      "Epoch 85/100\n",
      "337/337 - 0s - loss: 0.0570 - mae: 0.1768 - val_loss: 0.9609 - val_mae: 0.7424\n",
      "Epoch 86/100\n",
      "337/337 - 0s - loss: 0.0502 - mae: 0.1616 - val_loss: 0.9616 - val_mae: 0.7370\n",
      "Epoch 87/100\n",
      "337/337 - 0s - loss: 0.0473 - mae: 0.1508 - val_loss: 0.9587 - val_mae: 0.7360\n",
      "Epoch 88/100\n",
      "337/337 - 0s - loss: 0.0443 - mae: 0.1462 - val_loss: 0.9996 - val_mae: 0.7547\n",
      "Epoch 89/100\n",
      "337/337 - 0s - loss: 0.0446 - mae: 0.1467 - val_loss: 0.9688 - val_mae: 0.7353\n"
     ]
    },
    {
     "name": "stdout",
     "output_type": "stream",
     "text": [
      "Epoch 90/100\n",
      "337/337 - 0s - loss: 0.0493 - mae: 0.1638 - val_loss: 1.0083 - val_mae: 0.7705\n",
      "Epoch 91/100\n",
      "337/337 - 0s - loss: 0.0532 - mae: 0.1691 - val_loss: 0.9607 - val_mae: 0.7386\n",
      "Epoch 92/100\n",
      "337/337 - 0s - loss: 0.0472 - mae: 0.1555 - val_loss: 1.0031 - val_mae: 0.7533\n",
      "Epoch 93/100\n",
      "337/337 - 0s - loss: 0.0474 - mae: 0.1595 - val_loss: 1.0375 - val_mae: 0.7721\n",
      "Epoch 94/100\n",
      "337/337 - 0s - loss: 0.0510 - mae: 0.1651 - val_loss: 0.9708 - val_mae: 0.7523\n",
      "Epoch 95/100\n",
      "337/337 - 0s - loss: 0.0422 - mae: 0.1460 - val_loss: 0.9838 - val_mae: 0.7515\n",
      "Epoch 96/100\n",
      "337/337 - 0s - loss: 0.0391 - mae: 0.1447 - val_loss: 0.9597 - val_mae: 0.7301\n",
      "Epoch 97/100\n",
      "337/337 - 0s - loss: 0.0369 - mae: 0.1393 - val_loss: 1.0020 - val_mae: 0.7565\n",
      "Epoch 98/100\n",
      "337/337 - 0s - loss: 0.0326 - mae: 0.1263 - val_loss: 1.0019 - val_mae: 0.7574\n",
      "Epoch 99/100\n",
      "337/337 - 0s - loss: 0.0322 - mae: 0.1304 - val_loss: 1.0643 - val_mae: 0.8027\n",
      "Epoch 100/100\n",
      "337/337 - 0s - loss: 0.0473 - mae: 0.1646 - val_loss: 1.0265 - val_mae: 0.7723\n"
     ]
    }
   ],
   "source": [
    "# Train the model, with some of the data reserved for validation\n",
    "history = model.fit(train_data, train_targets, \n",
    "                   epochs=100, \n",
    "                   validation_split=0.15,\n",
    "                   batch_size=64, \n",
    "                   verbose=2,\n",
    "                   )\n"
   ]
  },
  {
   "cell_type": "code",
   "execution_count": 10,
   "metadata": {},
   "outputs": [
    {
     "name": "stdout",
     "output_type": "stream",
     "text": [
      "45/1 - 0s - loss: 0.6396 - mae: 0.6309\n"
     ]
    },
    {
     "data": {
      "text/plain": [
       "[0.6984007649951511, 0.6309358]"
      ]
     },
     "execution_count": 10,
     "metadata": {},
     "output_type": "execute_result"
    }
   ],
   "source": [
    "# Evaluate the model on the test set\n",
    "\n",
    "model.evaluate(test_data, test_targets, verbose=2)"
   ]
  },
  {
   "cell_type": "markdown",
   "metadata": {},
   "source": [
    "#### Plot the learning curves"
   ]
  },
  {
   "cell_type": "code",
   "execution_count": 11,
   "metadata": {},
   "outputs": [],
   "source": [
    "import matplotlib.pyplot as plt\n",
    "%matplotlib inline"
   ]
  },
  {
   "cell_type": "code",
   "execution_count": 12,
   "metadata": {},
   "outputs": [
    {
     "data": {
      "image/png": "[encoded data removed]",
      "text/plain": [
       "<Figure size 432x288 with 1 Axes>"
      ]
     },
     "metadata": {
      "needs_background": "light"
     },
     "output_type": "display_data"
    }
   ],
   "source": [
    "# Plot the training and validation loss\n",
    "\n",
    "plt.plot(history.history['loss'])\n",
    "plt.plot(history.history['val_loss'])\n",
    "plt.title('Loss vs. epochs')\n",
    "plt.ylabel('Loss')\n",
    "plt.xlabel('Epoch')\n",
    "plt.legend(['Training', 'Validation'], loc='upper right')\n",
    "plt.show()"
   ]
  },
  {
   "cell_type": "markdown",
   "metadata": {},
   "source": [
    "***\n",
    "<a id=\"coding_tutorial_2\"></a>\n",
    "## Model regularisation"
   ]
  },
  {
   "cell_type": "markdown",
   "metadata": {},
   "source": [
    "#### Adding regularisation with weight decay and dropout"
   ]
  },
  {
   "cell_type": "code",
   "execution_count": 13,
   "metadata": {},
   "outputs": [],
   "source": [
    "from tensorflow.keras.layers import Dropout\n",
    "from tensorflow.keras import regularizers"
   ]
  },
  {
   "cell_type": "code",
   "execution_count": 14,
   "metadata": {},
   "outputs": [],
   "source": [
    "def get_regularised_model(wd, rate):\n",
    "    \"\"\"\n",
    "    :wd - weight decay\n",
    "    \"\"\"\n",
    "    model = Sequential([\n",
    "        Dense(128, kernel_regularizer=regularizers.l2(wd), activation=\"relu\", input_shape=(train_data.shape[1],)),\n",
    "        Dropout(rate),\n",
    "        Dense(128, kernel_regularizer=regularizers.l2(wd), activation=\"relu\"),\n",
    "        Dropout(rate),\n",
    "        Dense(128, kernel_regularizer=regularizers.l2(wd), activation=\"relu\"),\n",
    "        Dropout(rate),\n",
    "        Dense(128, kernel_regularizer=regularizers.l2(wd), activation=\"relu\"),\n",
    "        Dropout(rate),\n",
    "        Dense(128, kernel_regularizer=regularizers.l2(wd), activation=\"relu\"),\n",
    "        Dropout(rate),\n",
    "        Dense(128, kernel_regularizer=regularizers.l2(wd), activation=\"relu\"),\n",
    "        Dropout(rate),\n",
    "        Dense(1)\n",
    "    ])\n",
    "    return model"
   ]
  },
  {
   "cell_type": "code",
   "execution_count": 15,
   "metadata": {},
   "outputs": [],
   "source": [
    "# Re-build the model with weight decay and dropout layers\n",
    "model = get_regularised_model(1e-5, 0.3)\n"
   ]
  },
  {
   "cell_type": "code",
   "execution_count": 16,
   "metadata": {},
   "outputs": [],
   "source": [
    "# Compile the model\n",
    "model.compile(optimizer='adam', \n",
    "             loss='mse', \n",
    "             metrics=['mae'])\n"
   ]
  },
  {
   "cell_type": "code",
   "execution_count": 17,
   "metadata": {},
   "outputs": [
    {
     "name": "stdout",
     "output_type": "stream",
     "text": [
      "Train on 337 samples, validate on 60 samples\n",
      "Epoch 1/100\n",
      "337/337 - 2s - loss: 1.0694 - mae: 0.8858 - val_loss: 0.7989 - val_mae: 0.7533\n",
      "Epoch 2/100\n",
      "337/337 - 0s - loss: 1.0633 - mae: 0.8847 - val_loss: 0.7928 - val_mae: 0.7507\n",
      "Epoch 3/100\n",
      "337/337 - 0s - loss: 1.0479 - mae: 0.8777 - val_loss: 0.7663 - val_mae: 0.7372\n",
      "Epoch 4/100\n",
      "337/337 - 0s - loss: 0.9907 - mae: 0.8518 - val_loss: 0.6816 - val_mae: 0.6888\n",
      "Epoch 5/100\n",
      "337/337 - 0s - loss: 0.8732 - mae: 0.7919 - val_loss: 0.5604 - val_mae: 0.6105\n",
      "Epoch 6/100\n",
      "337/337 - 0s - loss: 0.7164 - mae: 0.6910 - val_loss: 0.5905 - val_mae: 0.6240\n",
      "Epoch 7/100\n",
      "337/337 - 0s - loss: 0.6265 - mae: 0.6411 - val_loss: 0.5928 - val_mae: 0.6106\n",
      "Epoch 8/100\n",
      "337/337 - 0s - loss: 0.5808 - mae: 0.6078 - val_loss: 0.5239 - val_mae: 0.5860\n",
      "Epoch 9/100\n",
      "337/337 - 0s - loss: 0.5954 - mae: 0.6323 - val_loss: 0.5221 - val_mae: 0.6043\n",
      "Epoch 10/100\n",
      "337/337 - 0s - loss: 0.5867 - mae: 0.6319 - val_loss: 0.5078 - val_mae: 0.5788\n",
      "Epoch 11/100\n",
      "337/337 - 0s - loss: 0.5663 - mae: 0.5990 - val_loss: 0.5413 - val_mae: 0.5908\n",
      "Epoch 12/100\n",
      "337/337 - 0s - loss: 0.5247 - mae: 0.5920 - val_loss: 0.5398 - val_mae: 0.5863\n",
      "Epoch 13/100\n",
      "337/337 - 0s - loss: 0.4989 - mae: 0.5705 - val_loss: 0.5325 - val_mae: 0.5703\n",
      "Epoch 14/100\n",
      "337/337 - 0s - loss: 0.5229 - mae: 0.5704 - val_loss: 0.5438 - val_mae: 0.5823\n",
      "Epoch 15/100\n",
      "337/337 - 0s - loss: 0.5228 - mae: 0.5782 - val_loss: 0.5263 - val_mae: 0.5735\n",
      "Epoch 16/100\n",
      "337/337 - 0s - loss: 0.5473 - mae: 0.6113 - val_loss: 0.5212 - val_mae: 0.5750\n",
      "Epoch 17/100\n",
      "337/337 - 0s - loss: 0.5445 - mae: 0.5831 - val_loss: 0.5086 - val_mae: 0.5617\n",
      "Epoch 18/100\n",
      "337/337 - 0s - loss: 0.5103 - mae: 0.5690 - val_loss: 0.5484 - val_mae: 0.5947\n",
      "Epoch 19/100\n",
      "337/337 - 0s - loss: 0.5003 - mae: 0.5774 - val_loss: 0.5039 - val_mae: 0.5553\n",
      "Epoch 20/100\n",
      "337/337 - 0s - loss: 0.5054 - mae: 0.5654 - val_loss: 0.5441 - val_mae: 0.5743\n",
      "Epoch 21/100\n",
      "337/337 - 0s - loss: 0.5389 - mae: 0.5849 - val_loss: 0.5018 - val_mae: 0.5445\n",
      "Epoch 22/100\n",
      "337/337 - 0s - loss: 0.5231 - mae: 0.5701 - val_loss: 0.4690 - val_mae: 0.5457\n",
      "Epoch 23/100\n",
      "337/337 - 0s - loss: 0.5299 - mae: 0.5905 - val_loss: 0.5101 - val_mae: 0.5661\n",
      "Epoch 24/100\n",
      "337/337 - 0s - loss: 0.4651 - mae: 0.5511 - val_loss: 0.5358 - val_mae: 0.5551\n",
      "Epoch 25/100\n",
      "337/337 - 0s - loss: 0.5312 - mae: 0.5779 - val_loss: 0.5185 - val_mae: 0.5548\n",
      "Epoch 26/100\n",
      "337/337 - 0s - loss: 0.4872 - mae: 0.5634 - val_loss: 0.5251 - val_mae: 0.5816\n",
      "Epoch 27/100\n",
      "337/337 - 0s - loss: 0.5073 - mae: 0.5721 - val_loss: 0.5071 - val_mae: 0.5519\n",
      "Epoch 28/100\n",
      "337/337 - 0s - loss: 0.4613 - mae: 0.5463 - val_loss: 0.5488 - val_mae: 0.5646\n",
      "Epoch 29/100\n",
      "337/337 - 0s - loss: 0.4810 - mae: 0.5482 - val_loss: 0.5001 - val_mae: 0.5436\n",
      "Epoch 30/100\n",
      "337/337 - 0s - loss: 0.4448 - mae: 0.5421 - val_loss: 0.5494 - val_mae: 0.5737\n",
      "Epoch 31/100\n",
      "337/337 - 0s - loss: 0.4645 - mae: 0.5419 - val_loss: 0.5148 - val_mae: 0.5496\n",
      "Epoch 32/100\n",
      "337/337 - 0s - loss: 0.4633 - mae: 0.5278 - val_loss: 0.5282 - val_mae: 0.5696\n",
      "Epoch 33/100\n",
      "337/337 - 0s - loss: 0.4678 - mae: 0.5518 - val_loss: 0.5353 - val_mae: 0.5660\n",
      "Epoch 34/100\n",
      "337/337 - 0s - loss: 0.4838 - mae: 0.5541 - val_loss: 0.5263 - val_mae: 0.5607\n",
      "Epoch 35/100\n",
      "337/337 - 0s - loss: 0.4734 - mae: 0.5366 - val_loss: 0.5530 - val_mae: 0.5762\n",
      "Epoch 36/100\n",
      "337/337 - 0s - loss: 0.4464 - mae: 0.5362 - val_loss: 0.5413 - val_mae: 0.5598\n",
      "Epoch 37/100\n",
      "337/337 - 0s - loss: 0.4474 - mae: 0.5342 - val_loss: 0.5135 - val_mae: 0.5402\n",
      "Epoch 38/100\n",
      "337/337 - 0s - loss: 0.4385 - mae: 0.5104 - val_loss: 0.5060 - val_mae: 0.5481\n",
      "Epoch 39/100\n",
      "337/337 - 0s - loss: 0.4609 - mae: 0.5522 - val_loss: 0.5320 - val_mae: 0.5593\n",
      "Epoch 40/100\n",
      "337/337 - 0s - loss: 0.4563 - mae: 0.5206 - val_loss: 0.5347 - val_mae: 0.5467\n",
      "Epoch 41/100\n",
      "337/337 - 0s - loss: 0.4492 - mae: 0.5156 - val_loss: 0.5257 - val_mae: 0.5511\n",
      "Epoch 42/100\n",
      "337/337 - 0s - loss: 0.4281 - mae: 0.5261 - val_loss: 0.5597 - val_mae: 0.5811\n",
      "Epoch 43/100\n",
      "337/337 - 0s - loss: 0.4887 - mae: 0.5432 - val_loss: 0.5609 - val_mae: 0.5605\n",
      "Epoch 44/100\n",
      "337/337 - 0s - loss: 0.4657 - mae: 0.5360 - val_loss: 0.5661 - val_mae: 0.5855\n",
      "Epoch 45/100\n",
      "337/337 - 0s - loss: 0.4693 - mae: 0.5515 - val_loss: 0.5223 - val_mae: 0.5564\n",
      "Epoch 46/100\n",
      "337/337 - 0s - loss: 0.4234 - mae: 0.5120 - val_loss: 0.5395 - val_mae: 0.5495\n",
      "Epoch 47/100\n",
      "337/337 - 0s - loss: 0.4433 - mae: 0.5277 - val_loss: 0.5490 - val_mae: 0.5574\n",
      "Epoch 48/100\n",
      "337/337 - 0s - loss: 0.4312 - mae: 0.5215 - val_loss: 0.5564 - val_mae: 0.5731\n",
      "Epoch 49/100\n",
      "337/337 - 0s - loss: 0.4476 - mae: 0.5309 - val_loss: 0.5389 - val_mae: 0.5551\n",
      "Epoch 50/100\n",
      "337/337 - 0s - loss: 0.4665 - mae: 0.5316 - val_loss: 0.6191 - val_mae: 0.6090\n",
      "Epoch 51/100\n",
      "337/337 - 0s - loss: 0.4472 - mae: 0.5275 - val_loss: 0.5173 - val_mae: 0.5379\n",
      "Epoch 52/100\n",
      "337/337 - 0s - loss: 0.4109 - mae: 0.5056 - val_loss: 0.5605 - val_mae: 0.5755\n",
      "Epoch 53/100\n",
      "337/337 - 0s - loss: 0.4572 - mae: 0.5320 - val_loss: 0.5571 - val_mae: 0.5562\n",
      "Epoch 54/100\n",
      "337/337 - 0s - loss: 0.4036 - mae: 0.5105 - val_loss: 0.5554 - val_mae: 0.5601\n",
      "Epoch 55/100\n",
      "337/337 - 0s - loss: 0.4284 - mae: 0.5173 - val_loss: 0.5538 - val_mae: 0.5627\n",
      "Epoch 56/100\n",
      "337/337 - 0s - loss: 0.4388 - mae: 0.5253 - val_loss: 0.5240 - val_mae: 0.5337\n",
      "Epoch 57/100\n",
      "337/337 - 0s - loss: 0.4307 - mae: 0.5289 - val_loss: 0.5659 - val_mae: 0.5870\n",
      "Epoch 58/100\n",
      "337/337 - 0s - loss: 0.4169 - mae: 0.5111 - val_loss: 0.5610 - val_mae: 0.5491\n",
      "Epoch 59/100\n",
      "337/337 - 0s - loss: 0.4475 - mae: 0.5272 - val_loss: 0.5560 - val_mae: 0.5625\n",
      "Epoch 60/100\n",
      "337/337 - 0s - loss: 0.4240 - mae: 0.5230 - val_loss: 0.5606 - val_mae: 0.5713\n",
      "Epoch 61/100\n",
      "337/337 - 0s - loss: 0.4437 - mae: 0.5330 - val_loss: 0.6011 - val_mae: 0.5729\n",
      "Epoch 62/100\n",
      "337/337 - 0s - loss: 0.4072 - mae: 0.5055 - val_loss: 0.6856 - val_mae: 0.6502\n",
      "Epoch 63/100\n",
      "337/337 - 0s - loss: 0.3991 - mae: 0.4964 - val_loss: 0.5611 - val_mae: 0.5607\n",
      "Epoch 64/100\n",
      "337/337 - 0s - loss: 0.4358 - mae: 0.5088 - val_loss: 0.5672 - val_mae: 0.5740\n",
      "Epoch 65/100\n",
      "337/337 - 0s - loss: 0.3855 - mae: 0.4970 - val_loss: 0.5945 - val_mae: 0.5900\n",
      "Epoch 66/100\n",
      "337/337 - 0s - loss: 0.3783 - mae: 0.4907 - val_loss: 0.5780 - val_mae: 0.5493\n",
      "Epoch 67/100\n",
      "337/337 - 0s - loss: 0.4174 - mae: 0.5078 - val_loss: 0.5976 - val_mae: 0.5896\n",
      "Epoch 68/100\n",
      "337/337 - 0s - loss: 0.4374 - mae: 0.5228 - val_loss: 0.5914 - val_mae: 0.5860\n",
      "Epoch 69/100\n",
      "337/337 - 1s - loss: 0.4301 - mae: 0.5144 - val_loss: 0.5615 - val_mae: 0.5608\n",
      "Epoch 70/100\n",
      "337/337 - 0s - loss: 0.3886 - mae: 0.4752 - val_loss: 0.6366 - val_mae: 0.6224\n",
      "Epoch 71/100\n",
      "337/337 - 0s - loss: 0.3948 - mae: 0.4819 - val_loss: 0.5473 - val_mae: 0.5472\n",
      "Epoch 72/100\n",
      "337/337 - 0s - loss: 0.3887 - mae: 0.4917 - val_loss: 0.5699 - val_mae: 0.5691\n",
      "Epoch 73/100\n",
      "337/337 - 0s - loss: 0.3863 - mae: 0.4884 - val_loss: 0.5841 - val_mae: 0.5807\n",
      "Epoch 74/100\n",
      "337/337 - 0s - loss: 0.3905 - mae: 0.5033 - val_loss: 0.5629 - val_mae: 0.5643\n",
      "Epoch 75/100\n",
      "337/337 - 0s - loss: 0.4052 - mae: 0.5016 - val_loss: 0.6002 - val_mae: 0.5884\n",
      "Epoch 76/100\n",
      "337/337 - 0s - loss: 0.3643 - mae: 0.4629 - val_loss: 0.5871 - val_mae: 0.5546\n",
      "Epoch 77/100\n",
      "337/337 - 0s - loss: 0.3727 - mae: 0.4835 - val_loss: 0.5902 - val_mae: 0.5831\n",
      "Epoch 78/100\n",
      "337/337 - 0s - loss: 0.3478 - mae: 0.4743 - val_loss: 0.6116 - val_mae: 0.6005\n",
      "Epoch 79/100\n",
      "337/337 - 0s - loss: 0.3754 - mae: 0.4854 - val_loss: 0.6123 - val_mae: 0.5839\n",
      "Epoch 80/100\n",
      "337/337 - 0s - loss: 0.3957 - mae: 0.4960 - val_loss: 0.6266 - val_mae: 0.5925\n",
      "Epoch 81/100\n",
      "337/337 - 0s - loss: 0.4208 - mae: 0.5208 - val_loss: 0.5696 - val_mae: 0.5596\n",
      "Epoch 82/100\n",
      "337/337 - 0s - loss: 0.4005 - mae: 0.5113 - val_loss: 0.5508 - val_mae: 0.5647\n",
      "Epoch 83/100\n",
      "337/337 - 0s - loss: 0.3930 - mae: 0.4945 - val_loss: 0.6012 - val_mae: 0.6032\n",
      "Epoch 84/100\n",
      "337/337 - 0s - loss: 0.4128 - mae: 0.4967 - val_loss: 0.5284 - val_mae: 0.5420\n",
      "Epoch 85/100\n",
      "337/337 - 0s - loss: 0.3913 - mae: 0.4926 - val_loss: 0.6274 - val_mae: 0.6344\n",
      "Epoch 86/100\n",
      "337/337 - 0s - loss: 0.4344 - mae: 0.5287 - val_loss: 0.5644 - val_mae: 0.5515\n",
      "Epoch 87/100\n",
      "337/337 - 0s - loss: 0.3909 - mae: 0.4913 - val_loss: 0.5562 - val_mae: 0.5488\n",
      "Epoch 88/100\n",
      "337/337 - 0s - loss: 0.3544 - mae: 0.4747 - val_loss: 0.5886 - val_mae: 0.5901\n",
      "Epoch 89/100\n",
      "337/337 - 0s - loss: 0.3336 - mae: 0.4599 - val_loss: 0.6102 - val_mae: 0.5885\n"
     ]
    },
    {
     "name": "stdout",
     "output_type": "stream",
     "text": [
      "Epoch 90/100\n",
      "337/337 - 0s - loss: 0.3370 - mae: 0.4507 - val_loss: 0.6210 - val_mae: 0.5966\n",
      "Epoch 91/100\n",
      "337/337 - 0s - loss: 0.4044 - mae: 0.5023 - val_loss: 0.5888 - val_mae: 0.5872\n",
      "Epoch 92/100\n",
      "337/337 - 0s - loss: 0.3689 - mae: 0.4688 - val_loss: 0.5696 - val_mae: 0.5693\n",
      "Epoch 93/100\n",
      "337/337 - 0s - loss: 0.3952 - mae: 0.4931 - val_loss: 0.5738 - val_mae: 0.5628\n",
      "Epoch 94/100\n",
      "337/337 - 0s - loss: 0.3645 - mae: 0.4821 - val_loss: 0.5808 - val_mae: 0.5833\n",
      "Epoch 95/100\n",
      "337/337 - 0s - loss: 0.3285 - mae: 0.4600 - val_loss: 0.6038 - val_mae: 0.5772\n",
      "Epoch 96/100\n",
      "337/337 - 0s - loss: 0.3494 - mae: 0.4649 - val_loss: 0.6338 - val_mae: 0.5866\n",
      "Epoch 97/100\n",
      "337/337 - 0s - loss: 0.3542 - mae: 0.4666 - val_loss: 0.6236 - val_mae: 0.5957\n",
      "Epoch 98/100\n",
      "337/337 - 0s - loss: 0.3598 - mae: 0.4758 - val_loss: 0.5969 - val_mae: 0.5886\n",
      "Epoch 99/100\n",
      "337/337 - 0s - loss: 0.3539 - mae: 0.4756 - val_loss: 0.5944 - val_mae: 0.5730\n",
      "Epoch 100/100\n",
      "337/337 - 0s - loss: 0.3322 - mae: 0.4535 - val_loss: 0.6308 - val_mae: 0.5999\n"
     ]
    }
   ],
   "source": [
    "# Train the model, with some of the data reserved for validation\n",
    "\n",
    "history = model.fit(train_data, train_targets, \n",
    "                    epochs=100, \n",
    "                    validation_split=0.15,\n",
    "                    batch_size=64,\n",
    "                    verbose=2)"
   ]
  },
  {
   "cell_type": "code",
   "execution_count": 18,
   "metadata": {},
   "outputs": [
    {
     "name": "stdout",
     "output_type": "stream",
     "text": [
      "45/1 - 0s - loss: 0.5388 - mae: 0.5908\n"
     ]
    },
    {
     "data": {
      "text/plain": [
       "[0.552070000436571, 0.5908069]"
      ]
     },
     "execution_count": 18,
     "metadata": {},
     "output_type": "execute_result"
    }
   ],
   "source": [
    "# Evaluate the model on the test set\n",
    "model.evaluate(test_data, test_targets, verbose=2)\n"
   ]
  },
  {
   "cell_type": "markdown",
   "metadata": {},
   "source": [
    "#### Plot the learning curves"
   ]
  },
  {
   "cell_type": "code",
   "execution_count": 19,
   "metadata": {},
   "outputs": [
    {
     "data": {
      "image/png": "[encoded data removed]",
      "text/plain": [
       "<Figure size 432x288 with 1 Axes>"
      ]
     },
     "metadata": {
      "needs_background": "light"
     },
     "output_type": "display_data"
    }
   ],
   "source": [
    "# Plot the training and validation loss\n",
    "\n",
    "import matplotlib.pyplot as plt\n",
    "\n",
    "plt.plot(history.history['loss'])\n",
    "plt.plot(history.history['val_loss'])\n",
    "plt.title('Loss vs. epochs')\n",
    "plt.ylabel('Loss')\n",
    "plt.xlabel('Epoch')\n",
    "plt.legend(['Training', 'Validation'], loc='upper right')\n",
    "plt.show()"
   ]
  },
  {
   "cell_type": "markdown",
   "metadata": {},
   "source": [
    "***\n",
    "<a id=\"coding_tutorial_3\"></a>\n",
    "## Introduction to callbacks"
   ]
  },
  {
   "cell_type": "markdown",
   "metadata": {},
   "source": [
    "#### Example training callback"
   ]
  },
  {
   "cell_type": "code",
   "execution_count": 20,
   "metadata": {},
   "outputs": [],
   "source": [
    "# Write a custom callback\n",
    "from tensorflow.keras.callbacks import Callback\n",
    "\n",
    "class TrainingCallback(Callback):\n",
    "    \n",
    "    def on_train_brgin(self, logs=None):\n",
    "        print('Starting Training...')\n",
    "        \n",
    "    def on_epoch_begin(self, epoch, logs=None):\n",
    "        print(f\"Starting epoch {epoch}\")\n",
    "        \n",
    "    def on_train_batch_begin(self, batch, logs=None):\n",
    "        print(f\"Training: Starting batch {batch}\")\n",
    "        \n",
    "    def on_train_batch_end(self, batch, logs=None):\n",
    "        print(f\"Training: Finished batch {batch}\")\n",
    "        \n",
    "    def on_epoch_end(self, epoch, logs=None):\n",
    "        print(f\"Finished epoch {epoch}\")\n",
    "        \n",
    "    def on_train_end(self, logs=None):\n",
    "        print('Finished Training!')\n"
   ]
  },
  {
   "cell_type": "code",
   "execution_count": 21,
   "metadata": {},
   "outputs": [],
   "source": [
    "class TestingCallback(Callback):\n",
    "    \n",
    "    def on_test_begin(self, logs=None):\n",
    "        print('Starting Testing...')\n",
    "              \n",
    "    def on_test_batch_begin(self, batch, logs=None):\n",
    "        print(f\"Testing: Starting batch {batch}\")\n",
    "        \n",
    "    def on_test_batch_end(self, batch, logs=None):\n",
    "        print(f\"Testing: Finished batch {batch}\")\n",
    "        \n",
    "    def on_train_end(self, logs=None):\n",
    "        print('Finished Testing!')\n",
    "        "
   ]
  },
  {
   "cell_type": "code",
   "execution_count": 22,
   "metadata": {},
   "outputs": [],
   "source": [
    "class PredictionCallback(Callback):\n",
    "    \n",
    "    def on_predict_begin(self, logs=None):\n",
    "        print('Starting prediction...')\n",
    "              \n",
    "    def on_predict_batch_begin(self, batch, logs=None):\n",
    "        print(f\"Predicting: Starting batch {batch}\")\n",
    "        \n",
    "    def on_predict_batch_end(self, batch, logs=None):\n",
    "        print(f\"Predicting: Finished batch {batch}\")\n",
    "        \n",
    "    def on_predict_end(self, logs=None):\n",
    "        print('Finished prediction!')\n",
    "        "
   ]
  },
  {
   "cell_type": "code",
   "execution_count": 23,
   "metadata": {},
   "outputs": [],
   "source": [
    "# Re-build the model\n",
    "\n",
    "model = get_regularised_model(1e-5, 0.3)"
   ]
  },
  {
   "cell_type": "code",
   "execution_count": 24,
   "metadata": {},
   "outputs": [],
   "source": [
    "# Compile the model\n",
    "model.compile(optimizer='adam', loss='mse')\n"
   ]
  },
  {
   "cell_type": "markdown",
   "metadata": {},
   "source": [
    "#### Train the model with the callback"
   ]
  },
  {
   "cell_type": "code",
   "execution_count": 25,
   "metadata": {},
   "outputs": [
    {
     "name": "stdout",
     "output_type": "stream",
     "text": [
      "Train on 397 samples\n",
      "Starting epoch 0\n",
      "Epoch 1/5\n",
      "Training: Starting batch 0\n",
      "Training: Finished batch 0\n",
      "Training: Starting batch 1\n",
      "Training: Finished batch 1\n",
      "Training: Starting batch 2\n",
      "Training: Finished batch 2\n",
      "Training: Starting batch 3\n",
      "Training: Finished batch 3\n",
      "Finished epoch 0\n",
      "397/397 - 3s - loss: 1.0243\n",
      "Starting epoch 1\n",
      "Epoch 2/5\n",
      "Training: Starting batch 0\n",
      "Training: Finished batch 0\n",
      "Training: Starting batch 1\n",
      "Training: Finished batch 1\n",
      "Training: Starting batch 2\n",
      "Training: Finished batch 2\n",
      "Training: Starting batch 3\n",
      "Training: Finished batch 3\n",
      "Finished epoch 1\n",
      "397/397 - 0s - loss: 1.0194\n",
      "Starting epoch 2\n",
      "Epoch 3/5\n",
      "Training: Starting batch 0\n",
      "Training: Finished batch 0\n",
      "Training: Starting batch 1\n",
      "Training: Finished batch 1\n",
      "Training: Starting batch 2\n",
      "Training: Finished batch 2\n",
      "Training: Starting batch 3\n",
      "Training: Finished batch 3\n",
      "Finished epoch 2\n",
      "397/397 - 0s - loss: 1.0039\n",
      "Starting epoch 3\n",
      "Epoch 4/5\n",
      "Training: Starting batch 0\n",
      "Training: Finished batch 0\n",
      "Training: Starting batch 1\n",
      "Training: Finished batch 1\n",
      "Training: Starting batch 2\n",
      "Training: Finished batch 2\n",
      "Training: Starting batch 3\n",
      "Training: Finished batch 3\n",
      "Finished epoch 3\n",
      "397/397 - 0s - loss: 0.9601\n",
      "Starting epoch 4\n",
      "Epoch 5/5\n",
      "Training: Starting batch 0\n",
      "Training: Finished batch 0\n",
      "Training: Starting batch 1\n",
      "Training: Finished batch 1\n",
      "Training: Starting batch 2\n",
      "Training: Finished batch 2\n",
      "Training: Starting batch 3\n",
      "Training: Finished batch 3\n",
      "Finished epoch 4\n",
      "397/397 - 0s - loss: 0.8925\n",
      "Finished Training!\n"
     ]
    }
   ],
   "source": [
    "# Train the model, with some of the data reserved for validation\n",
    "\n",
    "history = model.fit(train_data, train_targets, \n",
    "                    epochs=5, \n",
    "#                     validation_split=0.15,\n",
    "                    batch_size=128,\n",
    "                    verbose=2, \n",
    "                   callbacks=[TrainingCallback()])"
   ]
  },
  {
   "cell_type": "code",
   "execution_count": 26,
   "metadata": {},
   "outputs": [
    {
     "name": "stdout",
     "output_type": "stream",
     "text": [
      "Starting Testing...\n",
      "Testing: Starting batch 0\n",
      "Testing: Finished batch 0\n",
      "Testing: Starting batch 1\n",
      "Testing: Finished batch 1\n",
      "45/1 - 0s - loss: 0.5504\n"
     ]
    },
    {
     "data": {
      "text/plain": [
       "0.6678491334120432"
      ]
     },
     "execution_count": 26,
     "metadata": {},
     "output_type": "execute_result"
    }
   ],
   "source": [
    "# Evaluate the model\n",
    "model.evaluate(test_data, test_targets, callbacks=[TestingCallback()], verbose=2)\n"
   ]
  },
  {
   "cell_type": "code",
   "execution_count": 27,
   "metadata": {},
   "outputs": [
    {
     "name": "stdout",
     "output_type": "stream",
     "text": [
      "Starting prediction...\n",
      "Predicting: Starting batch 0\n",
      "Predicting: Finished batch 0\n",
      "Predicting: Starting batch 1\n",
      "Predicting: Finished batch 1\n",
      "45/1 - 0s\n",
      "Finished prediction!\n"
     ]
    },
    {
     "data": {
      "text/plain": [
       "array([[-0.34940124],\n",
       "       [-0.29282165],\n",
       "       [-0.16912293],\n",
       "       [-0.28378016],\n",
       "       [-0.18909371],\n",
       "       [-0.0542355 ],\n",
       "       [-0.3473892 ],\n",
       "       [ 0.27810198],\n",
       "       [-0.3025587 ],\n",
       "       [ 0.34562552],\n",
       "       [-0.3089454 ],\n",
       "       [ 0.1433143 ],\n",
       "       [-0.05263428],\n",
       "       [-0.30771676],\n",
       "       [ 0.13624536],\n",
       "       [ 0.16274385],\n",
       "       [ 0.08252316],\n",
       "       [-0.28158733],\n",
       "       [ 0.22279054],\n",
       "       [-0.03322647],\n",
       "       [ 0.29216623],\n",
       "       [ 0.13130698],\n",
       "       [-0.267048  ],\n",
       "       [-0.21823077],\n",
       "       [ 0.2632413 ],\n",
       "       [ 0.05531208],\n",
       "       [ 0.21378489],\n",
       "       [-0.2727641 ],\n",
       "       [-0.22318241],\n",
       "       [ 0.18143153],\n",
       "       [ 0.00819118],\n",
       "       [ 0.09337106],\n",
       "       [-0.3350926 ],\n",
       "       [-0.2927976 ],\n",
       "       [ 0.14461257],\n",
       "       [-0.27263334],\n",
       "       [-0.3046277 ],\n",
       "       [ 0.28375095],\n",
       "       [-0.06220724],\n",
       "       [ 0.27011   ],\n",
       "       [-0.31306693],\n",
       "       [-0.00539614],\n",
       "       [-0.24455191],\n",
       "       [ 0.35561702],\n",
       "       [-0.16900185]], dtype=float32)"
      ]
     },
     "execution_count": 27,
     "metadata": {},
     "output_type": "execute_result"
    }
   ],
   "source": [
    "# Make predictions with the model\n",
    "model.predict(test_data, verbose=2, callbacks=[PredictionCallback()])\n"
   ]
  },
  {
   "cell_type": "markdown",
   "metadata": {},
   "source": [
    "***\n",
    "<a id=\"coding_tutorial_4\"></a>\n",
    "## Early stopping / patience"
   ]
  },
  {
   "cell_type": "markdown",
   "metadata": {},
   "source": [
    "#### Re-train the models with early stopping"
   ]
  },
  {
   "cell_type": "code",
   "execution_count": 28,
   "metadata": {},
   "outputs": [],
   "source": [
    "# Re-train the unregularised model\n",
    "\n",
    "unregularised_model = get_model()\n",
    "unregularised_model.compile(optimizer='adam', loss='mse')\n",
    "unregularised_model_history = unregularised_model.fit(train_data, train_targets, \n",
    "                                                     epochs=100,\n",
    "                                                     validation_split=0.15, \n",
    "                                                     batch_size=64, \n",
    "                                                     verbose=False, \n",
    "                                                     callbacks=[tf.keras.callbacks.EarlyStopping(patience=10)])"
   ]
  },
  {
   "cell_type": "code",
   "execution_count": 29,
   "metadata": {},
   "outputs": [
    {
     "name": "stdout",
     "output_type": "stream",
     "text": [
      "45/1 - 0s - loss: 0.5109\n"
     ]
    },
    {
     "data": {
      "text/plain": [
       "0.5362446639272902"
      ]
     },
     "execution_count": 29,
     "metadata": {},
     "output_type": "execute_result"
    }
   ],
   "source": [
    "# Evaluate the model on the test set\n",
    "\n",
    "unregularised_model.evaluate(test_data, test_targets, verbose=2)"
   ]
  },
  {
   "cell_type": "code",
   "execution_count": 30,
   "metadata": {},
   "outputs": [],
   "source": [
    "# Re-train the regularised model\n",
    "regularised_model = get_regularised_model(1e-8, 0.2)\n",
    "regularised_model.compile(optimizer='adam', loss='mse')\n",
    "regularised_model_history = regularised_model.fit(train_data, train_targets, \n",
    "                                                     epochs=100,\n",
    "                                                     validation_split=0.15, \n",
    "                                                     batch_size=64, \n",
    "                                                     verbose=False, \n",
    "                                                     callbacks=[tf.keras.callbacks.EarlyStopping(patience=10)])\n"
   ]
  },
  {
   "cell_type": "code",
   "execution_count": 31,
   "metadata": {},
   "outputs": [
    {
     "name": "stdout",
     "output_type": "stream",
     "text": [
      "45/1 - 0s - loss: 0.4686\n"
     ]
    },
    {
     "data": {
      "text/plain": [
       "0.5120073199272156"
      ]
     },
     "execution_count": 31,
     "metadata": {},
     "output_type": "execute_result"
    }
   ],
   "source": [
    "# Evaluate the model on the test set\n",
    "regularised_model.evaluate(test_data, test_targets, verbose=2)\n"
   ]
  },
  {
   "cell_type": "markdown",
   "metadata": {},
   "source": [
    "#### Plot the learning curves"
   ]
  },
  {
   "cell_type": "code",
   "execution_count": 32,
   "metadata": {},
   "outputs": [
    {
     "data": {
      "image/png": "[encoded data removed]",
      "text/plain": [
       "<Figure size 864x360 with 2 Axes>"
      ]
     },
     "metadata": {
      "needs_background": "light"
     },
     "output_type": "display_data"
    }
   ],
   "source": [
    "# Plot the training and validation loss\n",
    "\n",
    "import matplotlib.pyplot as plt\n",
    "\n",
    "fig = plt.figure(figsize=(12, 5))\n",
    "\n",
    "fig.add_subplot(121)\n",
    "\n",
    "plt.plot(unregularised_model_history.history['loss'])\n",
    "plt.plot(unregularised_model_history.history['val_loss'])\n",
    "plt.title('Unregularised model: loss vs. epochs')\n",
    "plt.ylabel('Loss')\n",
    "plt.xlabel('Epoch')\n",
    "plt.legend(['Training', 'Validation'], loc='upper right')\n",
    "\n",
    "fig.add_subplot(122)\n",
    "\n",
    "plt.plot(regularised_model_history.history['loss'])\n",
    "plt.plot(regularised_model_history.history['val_loss'])\n",
    "plt.title('Regularised model: loss vs. epochs')\n",
    "plt.ylabel('Loss')\n",
    "plt.xlabel('Epoch')\n",
    "plt.legend(['Training', 'Validation'], loc='upper right')\n",
    "\n",
    "plt.show()"
   ]
  },
  {
   "cell_type": "code",
   "execution_count": null,
   "metadata": {},
   "outputs": [],
   "source": []
  }
 ],
 "metadata": {
  "kernelspec": {
   "display_name": "Python 3",
   "language": "python",
   "name": "python3"
  },
  "language_info": {
   "codemirror_mode": {
    "name": "ipython",
    "version": 3
   },
   "file_extension": ".py",
   "mimetype": "text/x-python",
   "name": "python",
   "nbconvert_exporter": "python",
   "pygments_lexer": "ipython3",
   "version": "3.7.1"
  }
 },
 "nbformat": 4,
 "nbformat_minor": 2
}
