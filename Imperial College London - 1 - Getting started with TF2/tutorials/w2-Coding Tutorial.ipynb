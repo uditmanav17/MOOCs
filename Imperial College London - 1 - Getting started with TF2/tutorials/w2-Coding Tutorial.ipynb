{
 "cells": [
  {
   "cell_type": "code",
   "execution_count": 1,
   "metadata": {},
   "outputs": [
    {
     "name": "stdout",
     "output_type": "stream",
     "text": [
      "2.0.0\n"
     ]
    }
   ],
   "source": [
    "import tensorflow as tf\n",
    "print(tf.__version__)"
   ]
  },
  {
   "cell_type": "markdown",
   "metadata": {},
   "source": [
    "# The Sequential model API"
   ]
  },
  {
   "cell_type": "markdown",
   "metadata": {},
   "source": [
    " ## Coding tutorials\n",
    " #### [1. Building a Sequential model](#coding_tutorial_1)\n",
    " #### [2. Convolutional and pooling layers](#coding_tutorial_2)\n",
    " #### [3. The compile method](#coding_tutorial_3)\n",
    " #### [4. The fit method](#coding_tutorial_4)\n",
    " #### [5. The evaluate and predict methods](#coding_tutorial_5)"
   ]
  },
  {
   "cell_type": "markdown",
   "metadata": {},
   "source": [
    "***\n",
    "<a id=\"coding_tutorial_1\"></a>\n",
    "## Building a Sequential model"
   ]
  },
  {
   "cell_type": "code",
   "execution_count": 2,
   "metadata": {},
   "outputs": [],
   "source": [
    "from tensorflow.keras.models import Sequential\n",
    "from tensorflow.keras.layers import Dense, Flatten, Softmax"
   ]
  },
  {
   "cell_type": "markdown",
   "metadata": {},
   "source": [
    "#### Build a feedforward neural network model"
   ]
  },
  {
   "cell_type": "code",
   "execution_count": 3,
   "metadata": {},
   "outputs": [
    {
     "name": "stdout",
     "output_type": "stream",
     "text": [
      "Model: \"sequential\"\n",
      "_________________________________________________________________\n",
      "Layer (type)                 Output Shape              Param #   \n",
      "=================================================================\n",
      "flatten (Flatten)            (None, 784)               0         \n",
      "_________________________________________________________________\n",
      "layer_1 (Dense)              (None, 16)                12560     \n",
      "_________________________________________________________________\n",
      "dense (Dense)                (None, 16)                272       \n",
      "_________________________________________________________________\n",
      "dense_1 (Dense)              (None, 10)                170       \n",
      "=================================================================\n",
      "Total params: 13,002\n",
      "Trainable params: 13,002\n",
      "Non-trainable params: 0\n",
      "_________________________________________________________________\n"
     ]
    }
   ],
   "source": [
    "# Build the Sequential feedforward neural network model\n",
    "model = Sequential([\n",
    "    Flatten(input_shape=(28,28)),\n",
    "#     Dense(16, activation='relu'),\n",
    "    Dense(16, activation='relu', name='layer_1'),\n",
    "    Dense(16, activation='relu'),\n",
    "    Dense(10, activation='softmax')\n",
    "])\n",
    "model.summary()"
   ]
  },
  {
   "cell_type": "code",
   "execution_count": 4,
   "metadata": {},
   "outputs": [
    {
     "data": {
      "text/plain": [
       "[<tf.Variable 'layer_1/kernel:0' shape=(784, 16) dtype=float32, numpy=\n",
       " array([[ 0.00939999, -0.01960766,  0.03710797, ..., -0.03342058,\n",
       "         -0.01281486,  0.06238365],\n",
       "        [ 0.010611  ,  0.08575179,  0.01798813, ..., -0.00221647,\n",
       "         -0.04198793,  0.03293117],\n",
       "        [-0.06796078, -0.03208922,  0.06735303, ..., -0.01966904,\n",
       "          0.06937991, -0.05441526],\n",
       "        ...,\n",
       "        [-0.05367529, -0.07906594,  0.08162594, ...,  0.01961738,\n",
       "          0.03571539, -0.05781095],\n",
       "        [-0.00191581, -0.06809134, -0.08049232, ...,  0.05084537,\n",
       "          0.08625291, -0.08061051],\n",
       "        [ 0.07725328,  0.00331062,  0.02482736, ..., -0.00431927,\n",
       "          0.00534624,  0.01615526]], dtype=float32)>,\n",
       " <tf.Variable 'layer_1/bias:0' shape=(16,) dtype=float32, numpy=\n",
       " array([0., 0., 0., 0., 0., 0., 0., 0., 0., 0., 0., 0., 0., 0., 0., 0.],\n",
       "       dtype=float32)>,\n",
       " <tf.Variable 'dense/kernel:0' shape=(16, 16) dtype=float32, numpy=\n",
       " array([[ 2.51965791e-01, -8.77037048e-02, -3.14093143e-01,\n",
       "          3.89367968e-01,  9.74064171e-02,  3.77909571e-01,\n",
       "         -2.67921805e-01,  3.83960038e-01, -3.69149923e-01,\n",
       "          3.27728361e-01,  1.83230072e-01,  4.10318524e-01,\n",
       "          2.14730948e-01,  3.11825961e-01, -1.27442598e-01,\n",
       "         -2.27951750e-01],\n",
       "        [ 4.14703101e-01,  1.98270649e-01,  4.25210595e-02,\n",
       "         -1.02188945e-01,  2.93011397e-01,  2.02394694e-01,\n",
       "          3.36514413e-02, -3.31584603e-01, -3.35347742e-01,\n",
       "         -1.65961504e-01, -2.21056983e-01,  3.14123839e-01,\n",
       "          1.31299347e-01, -4.07424569e-01, -4.53591943e-02,\n",
       "         -3.59012127e-01],\n",
       "        [ 2.90371865e-01,  1.89724594e-01,  2.19507664e-01,\n",
       "         -4.33175266e-02, -1.52994573e-01,  1.09101981e-01,\n",
       "          3.82486314e-01, -6.00445271e-02,  3.93178493e-01,\n",
       "         -9.03913975e-02,  2.35172778e-01, -3.21488202e-01,\n",
       "          1.13400191e-01,  1.65270835e-01, -2.01104030e-01,\n",
       "          2.85207480e-01],\n",
       "        [ 3.76770467e-01,  3.01208526e-01, -3.61845195e-01,\n",
       "         -2.31928080e-01,  3.25831771e-03, -2.91849375e-02,\n",
       "          2.83654302e-01,  1.48396164e-01,  3.07931900e-02,\n",
       "         -1.62222385e-02, -1.33775741e-01, -2.68546164e-01,\n",
       "          2.42184371e-01,  6.80973828e-02, -4.12994593e-01,\n",
       "         -3.33104879e-01],\n",
       "        [ 1.94472104e-01, -9.76848900e-02, -1.81365281e-01,\n",
       "         -2.40556419e-01, -1.16748542e-01, -1.12099200e-01,\n",
       "         -3.12749207e-01,  2.78936177e-01,  3.01121444e-01,\n",
       "          1.03329211e-01,  3.23168308e-01,  2.61903435e-01,\n",
       "          1.04931384e-01, -1.50010586e-01, -7.82352090e-02,\n",
       "          2.76222974e-01],\n",
       "        [ 2.88248062e-04, -2.37699613e-01,  4.18881565e-01,\n",
       "         -2.29135484e-01,  2.08433867e-02,  4.07205075e-01,\n",
       "          2.94125110e-01,  1.50465637e-01, -1.51273191e-01,\n",
       "         -3.13438118e-01, -2.77883559e-01,  2.21887439e-01,\n",
       "          1.02010280e-01,  1.94059640e-01, -1.34336114e-01,\n",
       "         -1.32160366e-01],\n",
       "        [-3.97110969e-01, -1.94161966e-01,  3.64627868e-01,\n",
       "         -3.00281942e-02,  3.23603243e-01,  2.36540049e-01,\n",
       "          1.04575902e-01,  2.72278488e-02, -3.38532120e-01,\n",
       "          3.65638167e-01, -8.14414620e-02, -8.36805999e-02,\n",
       "         -5.86416125e-02, -4.19525027e-01,  1.14347428e-01,\n",
       "         -1.97334900e-01],\n",
       "        [-3.44840407e-01, -4.20073003e-01,  1.13807410e-01,\n",
       "         -1.37570769e-01, -1.53716415e-01,  3.42666715e-01,\n",
       "         -2.71892548e-02,  1.65373594e-01,  3.12834352e-01,\n",
       "          2.68624336e-01, -1.39029920e-02,  3.34502846e-01,\n",
       "         -3.95441413e-01,  4.28515345e-01, -2.76854157e-01,\n",
       "         -1.27701193e-01],\n",
       "        [ 1.38105959e-01,  1.08024269e-01,  9.46043432e-02,\n",
       "          1.54038399e-01,  1.93067223e-01, -1.50011510e-01,\n",
       "          2.19950467e-01, -2.85194814e-01, -1.76701695e-01,\n",
       "          8.83745253e-02, -2.55605280e-01, -3.12690347e-01,\n",
       "         -3.56151164e-01,  3.30844373e-01, -3.60351741e-01,\n",
       "         -3.77938181e-01],\n",
       "        [-1.85905904e-01,  2.28079170e-01, -2.31629923e-01,\n",
       "         -1.04970515e-01,  2.58019179e-01, -3.16675007e-02,\n",
       "         -2.71184534e-01, -3.58963698e-01,  3.38817388e-01,\n",
       "         -1.06473356e-01,  3.21047515e-01,  3.19997936e-01,\n",
       "          2.56007880e-01,  2.02511042e-01, -1.18891060e-01,\n",
       "          4.14177686e-01],\n",
       "        [-3.06943685e-01,  1.15566581e-01,  3.40481251e-01,\n",
       "         -2.95769811e-01, -1.90375090e-01,  3.44136029e-01,\n",
       "         -2.00672284e-01,  2.21573681e-01, -3.81176025e-01,\n",
       "          1.44552380e-01,  8.21588933e-02,  2.48059660e-01,\n",
       "          1.71584696e-01,  2.00672060e-01, -1.55871630e-01,\n",
       "         -3.85942549e-01],\n",
       "        [ 1.49288625e-01, -6.62181675e-02, -3.21834147e-01,\n",
       "         -1.51016027e-01, -3.58527303e-01,  7.76792467e-02,\n",
       "          3.74692678e-03, -1.50810778e-01, -4.22916710e-02,\n",
       "          2.00938314e-01,  3.95214587e-01, -8.95796418e-02,\n",
       "         -1.09916538e-01, -7.48871863e-02,  7.61658847e-02,\n",
       "          2.77378291e-01],\n",
       "        [-1.77860141e-01, -2.88134515e-01,  3.55279356e-01,\n",
       "          2.38785774e-01,  1.10568613e-01,  4.02521998e-01,\n",
       "          4.25964624e-01,  1.76745057e-02, -4.08264935e-01,\n",
       "          1.68634862e-01, -4.40513492e-02, -5.92254102e-02,\n",
       "         -1.97439790e-01,  6.74754381e-03,  4.29160386e-01,\n",
       "          4.09875512e-02],\n",
       "        [-1.81177497e-01, -1.72353297e-01, -3.02717626e-01,\n",
       "         -2.72433102e-01, -6.04171157e-02, -3.78970653e-01,\n",
       "          3.99187058e-01,  2.27680534e-01, -3.18639338e-01,\n",
       "          3.37794930e-01,  4.32986706e-01, -2.78346062e-01,\n",
       "          3.91683131e-01, -2.51796901e-01, -1.58446580e-01,\n",
       "         -2.04023078e-01],\n",
       "        [ 2.06104070e-01,  3.49669486e-01,  2.44269073e-02,\n",
       "          3.31526071e-01, -1.02412671e-01,  3.14159721e-01,\n",
       "          3.11323076e-01,  2.43918389e-01,  3.15005869e-01,\n",
       "          2.02012658e-02, -1.59541130e-01, -3.87290329e-01,\n",
       "          1.07291907e-01, -3.41874778e-01, -3.45087230e-01,\n",
       "         -9.06133652e-02],\n",
       "        [-4.12817001e-01,  2.09684461e-01, -2.33747244e-01,\n",
       "         -1.58975691e-01, -3.29340816e-01, -1.41496301e-01,\n",
       "         -3.94366473e-01,  2.34241456e-01, -2.69713700e-01,\n",
       "         -3.12418103e-01, -3.25880051e-01, -6.40267134e-02,\n",
       "          4.28800136e-01,  1.35721356e-01, -4.07080173e-01,\n",
       "         -4.03358042e-02]], dtype=float32)>,\n",
       " <tf.Variable 'dense/bias:0' shape=(16,) dtype=float32, numpy=\n",
       " array([0., 0., 0., 0., 0., 0., 0., 0., 0., 0., 0., 0., 0., 0., 0., 0.],\n",
       "       dtype=float32)>,\n",
       " <tf.Variable 'dense_1/kernel:0' shape=(16, 10) dtype=float32, numpy=\n",
       " array([[-0.23625746,  0.30253875,  0.09711069,  0.07450873, -0.1825512 ,\n",
       "          0.43829834,  0.32546562, -0.09092799,  0.04686958,  0.03561872],\n",
       "        [ 0.14776134,  0.15545624, -0.34562394,  0.3440907 , -0.29630667,\n",
       "         -0.18277201,  0.4148786 ,  0.41041481,  0.34021032,  0.41318822],\n",
       "        [ 0.17558247, -0.4023083 ,  0.02303833,  0.02803874,  0.12522995,\n",
       "         -0.36402234,  0.39437532, -0.44126713,  0.21263742,  0.37129366],\n",
       "        [-0.0776028 ,  0.12960464,  0.12635064,  0.20975739,  0.30437696,\n",
       "          0.1936453 , -0.3074097 , -0.05052045, -0.19280288, -0.43177855],\n",
       "        [-0.46865907,  0.446333  , -0.314825  ,  0.11625731,  0.30120486,\n",
       "          0.46771878, -0.1916846 ,  0.24179465,  0.14176822, -0.16130218],\n",
       "        [ 0.22099084,  0.36723393, -0.3865052 , -0.32569528,  0.4246353 ,\n",
       "          0.2660088 , -0.1830335 , -0.18314469, -0.2248286 ,  0.30216098],\n",
       "        [ 0.4029354 ,  0.25940406, -0.22468281,  0.42390203,  0.15398252,\n",
       "          0.08620262, -0.27668393,  0.383605  , -0.39613602, -0.4145351 ],\n",
       "        [ 0.2778666 , -0.4220709 , -0.1694181 ,  0.25363368, -0.24812923,\n",
       "         -0.0235849 , -0.076601  , -0.25679398, -0.07811144, -0.43167537],\n",
       "        [ 0.4254213 ,  0.00426635, -0.06611657, -0.42796507, -0.13883469,\n",
       "         -0.00206375,  0.04088491,  0.04858655, -0.23214701,  0.19116235],\n",
       "        [-0.30899423,  0.07057029, -0.06864545, -0.15578654,  0.19137561,\n",
       "         -0.14323124, -0.1703411 , -0.07934314, -0.44778803, -0.16862494],\n",
       "        [ 0.22749001,  0.4288259 , -0.06779435, -0.08789346, -0.08870926,\n",
       "          0.20854187,  0.11385328,  0.40092325, -0.09583399, -0.10568401],\n",
       "        [-0.4572192 , -0.38392043, -0.09916312,  0.21450156, -0.08780605,\n",
       "         -0.11333525,  0.22584224, -0.11148348,  0.13774812, -0.37208453],\n",
       "        [-0.10822964,  0.14994723,  0.17104226, -0.13558665, -0.0036197 ,\n",
       "         -0.15743649,  0.03715813, -0.02349705,  0.02055931, -0.2808522 ],\n",
       "        [ 0.07171583, -0.40687644, -0.07532945, -0.18987933,  0.04166257,\n",
       "          0.34046632,  0.37556356, -0.2631953 ,  0.2925579 , -0.36084783],\n",
       "        [-0.18493015, -0.40912998,  0.08989638, -0.01166376,  0.17075008,\n",
       "         -0.37191042,  0.1170004 , -0.45552802, -0.27071208,  0.24069089],\n",
       "        [-0.4029633 ,  0.40000278,  0.14265436, -0.18034083,  0.41223264,\n",
       "          0.19823653, -0.13973925, -0.06759325, -0.38885152, -0.08442551]],\n",
       "       dtype=float32)>,\n",
       " <tf.Variable 'dense_1/bias:0' shape=(10,) dtype=float32, numpy=array([0., 0., 0., 0., 0., 0., 0., 0., 0., 0.], dtype=float32)>]"
      ]
     },
     "execution_count": 4,
     "metadata": {},
     "output_type": "execute_result"
    }
   ],
   "source": [
    "# Print the model summary\n",
    "model.weights\n"
   ]
  },
  {
   "cell_type": "markdown",
   "metadata": {},
   "source": [
    "***\n",
    "<a id=\"coding_tutorial_2\"></a>\n",
    "## Convolutional and pooling layers"
   ]
  },
  {
   "cell_type": "code",
   "execution_count": 5,
   "metadata": {},
   "outputs": [],
   "source": [
    "from tensorflow.keras.models import Sequential\n",
    "from tensorflow.keras.layers import Dense, Flatten, Conv2D, MaxPooling2D"
   ]
  },
  {
   "cell_type": "markdown",
   "metadata": {},
   "source": [
    "#### Build a convolutional neural network model"
   ]
  },
  {
   "cell_type": "code",
   "execution_count": 6,
   "metadata": {},
   "outputs": [],
   "source": [
    "# Build the Sequential convolutional neural network model\n",
    "model = Sequential([\n",
    "    Conv2D(filters=16, \n",
    "           kernel_size=3, \n",
    "#            padding='SAME', \n",
    "#            strides=2, \n",
    "           activation='relu', \n",
    "           input_shape=(28, 28, 1)),\n",
    "    MaxPooling2D(\n",
    "#         pool_size=(3, 3),\n",
    "        pool_size=3,\n",
    "    ),\n",
    "    Flatten(),\n",
    "    Dense(10, activation='softmax')\n",
    "])\n"
   ]
  },
  {
   "cell_type": "code",
   "execution_count": 7,
   "metadata": {},
   "outputs": [
    {
     "name": "stdout",
     "output_type": "stream",
     "text": [
      "Model: \"sequential_1\"\n",
      "_________________________________________________________________\n",
      "Layer (type)                 Output Shape              Param #   \n",
      "=================================================================\n",
      "conv2d (Conv2D)              (None, 26, 26, 16)        160       \n",
      "_________________________________________________________________\n",
      "max_pooling2d (MaxPooling2D) (None, 8, 8, 16)          0         \n",
      "_________________________________________________________________\n",
      "flatten_1 (Flatten)          (None, 1024)              0         \n",
      "_________________________________________________________________\n",
      "dense_2 (Dense)              (None, 10)                10250     \n",
      "=================================================================\n",
      "Total params: 10,410\n",
      "Trainable params: 10,410\n",
      "Non-trainable params: 0\n",
      "_________________________________________________________________\n"
     ]
    }
   ],
   "source": [
    "# Print the model summary\n",
    "model.summary()\n"
   ]
  },
  {
   "cell_type": "markdown",
   "metadata": {},
   "source": [
    "***\n",
    "<a id=\"coding_tutorial_3\"></a>\n",
    "## The compile method"
   ]
  },
  {
   "cell_type": "markdown",
   "metadata": {},
   "source": [
    "#### Compile the model"
   ]
  },
  {
   "cell_type": "code",
   "execution_count": 8,
   "metadata": {},
   "outputs": [],
   "source": [
    "# Define the model optimizer, loss function and metrics\n",
    "\n",
    "opt = tf.keras.optimizers.Adam(learning_rate=0.005)\n",
    "acc = tf.keras.metrics.SparseCategoricalAccuracy()\n",
    "mae = tf.keras.metrics.MeanAbsoluteError()\n",
    "\n",
    "model.compile(optimizer=opt, \n",
    "             loss='sparse_categorical_crossentropy', \n",
    "             metrics=[acc, mae])"
   ]
  },
  {
   "cell_type": "code",
   "execution_count": 9,
   "metadata": {},
   "outputs": [
    {
     "name": "stdout",
     "output_type": "stream",
     "text": [
      "<tensorflow.python.keras.optimizer_v2.adam.Adam object at 0x7fcb5421eb00>\n",
      "sparse_categorical_crossentropy\n",
      "[<tensorflow.python.keras.metrics.SparseCategoricalAccuracy object at 0x7fcb5421eef0>, <tensorflow.python.keras.metrics.MeanAbsoluteError object at 0x7fcb5421ca58>]\n",
      "<tf.Variable 'learning_rate:0' shape=() dtype=float32, numpy=0.005>\n"
     ]
    }
   ],
   "source": [
    "# Print the resulting model attributes\n",
    "print(model.optimizer)\n",
    "print(model.loss)\n",
    "print(model.metrics)\n",
    "print(model.optimizer.learning_rate)\n",
    "# print(model.)\n",
    "# print(model.)"
   ]
  },
  {
   "cell_type": "markdown",
   "metadata": {},
   "source": [
    "***\n",
    "<a id=\"coding_tutorial_4\"></a>\n",
    "## The fit method"
   ]
  },
  {
   "cell_type": "code",
   "execution_count": 10,
   "metadata": {},
   "outputs": [],
   "source": [
    "from tensorflow.keras.preprocessing import image\n",
    "import matplotlib.pyplot as plt\n",
    "import numpy as np\n",
    "import pandas as pd"
   ]
  },
  {
   "cell_type": "markdown",
   "metadata": {},
   "source": [
    "#### Load the data"
   ]
  },
  {
   "cell_type": "code",
   "execution_count": 11,
   "metadata": {},
   "outputs": [
    {
     "name": "stdout",
     "output_type": "stream",
     "text": [
      "Downloading data from https://storage.googleapis.com/tensorflow/tf-keras-datasets/train-labels-idx1-ubyte.gz\n",
      "32768/29515 [=================================] - 0s 0us/step\n",
      "Downloading data from https://storage.googleapis.com/tensorflow/tf-keras-datasets/train-images-idx3-ubyte.gz\n",
      "26427392/26421880 [==============================] - 0s 0us/step\n",
      "Downloading data from https://storage.googleapis.com/tensorflow/tf-keras-datasets/t10k-labels-idx1-ubyte.gz\n",
      "8192/5148 [===============================================] - 0s 0us/step\n",
      "Downloading data from https://storage.googleapis.com/tensorflow/tf-keras-datasets/t10k-images-idx3-ubyte.gz\n",
      "4423680/4422102 [==============================] - 0s 0us/step\n"
     ]
    }
   ],
   "source": [
    "# Load the Fashion-MNIST dataset\n",
    "\n",
    "fashion_mnist_data = tf.keras.datasets.fashion_mnist\n",
    "(train_images, train_labels), (test_images, test_labels) = fashion_mnist_data.load_data()"
   ]
  },
  {
   "cell_type": "code",
   "execution_count": 12,
   "metadata": {},
   "outputs": [
    {
     "data": {
      "text/plain": [
       "(60000, 28, 28)"
      ]
     },
     "execution_count": 12,
     "metadata": {},
     "output_type": "execute_result"
    }
   ],
   "source": [
    "# Print the shape of the training data\n",
    "train_images.shape\n"
   ]
  },
  {
   "cell_type": "code",
   "execution_count": 13,
   "metadata": {},
   "outputs": [],
   "source": [
    "# Define the labels\n",
    "\n",
    "labels = [\n",
    "    'T-shirt/top',\n",
    "    'Trouser',\n",
    "    'Pullover',\n",
    "    'Dress',\n",
    "    'Coat',\n",
    "    'Sandal',\n",
    "    'Shirt',\n",
    "    'Sneaker',\n",
    "    'Bag',\n",
    "    'Ankle boot'\n",
    "]"
   ]
  },
  {
   "cell_type": "code",
   "execution_count": 14,
   "metadata": {},
   "outputs": [],
   "source": [
    "# Rescale the image values so that they lie in between 0 and 1.\n",
    "train_images = train_images / 255.\n",
    "test_images = test_images / 255."
   ]
  },
  {
   "cell_type": "code",
   "execution_count": 15,
   "metadata": {},
   "outputs": [
    {
     "name": "stdout",
     "output_type": "stream",
     "text": [
      "label - Ankle boot\n"
     ]
    },
    {
     "data": {
      "image/png": "[encoded data removed]",
      "text/plain": [
       "<Figure size 432x288 with 1 Axes>"
      ]
     },
     "metadata": {
      "needs_background": "light"
     },
     "output_type": "display_data"
    }
   ],
   "source": [
    "# Display one of the images\n",
    "\n",
    "i = 0\n",
    "img = train_images[i, :, :]\n",
    "plt.imshow(img)\n",
    "print(f\"label - {labels[train_labels[i]]}\")"
   ]
  },
  {
   "cell_type": "markdown",
   "metadata": {},
   "source": [
    "#### Fit the model"
   ]
  },
  {
   "cell_type": "code",
   "execution_count": 16,
   "metadata": {},
   "outputs": [
    {
     "ename": "ValueError",
     "evalue": "Error when checking input: expected conv2d_input to have 4 dimensions, but got array with shape (60000, 28, 28)",
     "output_type": "error",
     "traceback": [
      "\u001b[0;31m---------------------------------------------------------------------------\u001b[0m",
      "\u001b[0;31mValueError\u001b[0m                                Traceback (most recent call last)",
      "\u001b[0;32m<ipython-input-16-01c0dcbcdb66>\u001b[0m in \u001b[0;36m<module>\u001b[0;34m\u001b[0m\n\u001b[1;32m      1\u001b[0m \u001b[0;31m# Fit the model\u001b[0m\u001b[0;34m\u001b[0m\u001b[0;34m\u001b[0m\u001b[0;34m\u001b[0m\u001b[0m\n\u001b[1;32m      2\u001b[0m \u001b[0;34m\u001b[0m\u001b[0m\n\u001b[0;32m----> 3\u001b[0;31m \u001b[0mmodel\u001b[0m\u001b[0;34m.\u001b[0m\u001b[0mfit\u001b[0m\u001b[0;34m(\u001b[0m\u001b[0mtrain_images\u001b[0m\u001b[0;34m,\u001b[0m \u001b[0mtrain_labels\u001b[0m\u001b[0;34m,\u001b[0m \u001b[0mepochs\u001b[0m\u001b[0;34m=\u001b[0m\u001b[0;36m2\u001b[0m\u001b[0;34m,\u001b[0m \u001b[0mbatch_size\u001b[0m\u001b[0;34m=\u001b[0m\u001b[0;36m256\u001b[0m\u001b[0;34m)\u001b[0m\u001b[0;34m\u001b[0m\u001b[0;34m\u001b[0m\u001b[0m\n\u001b[0m",
      "\u001b[0;32m/opt/conda/lib/python3.7/site-packages/tensorflow_core/python/keras/engine/training.py\u001b[0m in \u001b[0;36mfit\u001b[0;34m(self, x, y, batch_size, epochs, verbose, callbacks, validation_split, validation_data, shuffle, class_weight, sample_weight, initial_epoch, steps_per_epoch, validation_steps, validation_freq, max_queue_size, workers, use_multiprocessing, **kwargs)\u001b[0m\n\u001b[1;32m    726\u001b[0m         \u001b[0mmax_queue_size\u001b[0m\u001b[0;34m=\u001b[0m\u001b[0mmax_queue_size\u001b[0m\u001b[0;34m,\u001b[0m\u001b[0;34m\u001b[0m\u001b[0;34m\u001b[0m\u001b[0m\n\u001b[1;32m    727\u001b[0m         \u001b[0mworkers\u001b[0m\u001b[0;34m=\u001b[0m\u001b[0mworkers\u001b[0m\u001b[0;34m,\u001b[0m\u001b[0;34m\u001b[0m\u001b[0;34m\u001b[0m\u001b[0m\n\u001b[0;32m--> 728\u001b[0;31m         use_multiprocessing=use_multiprocessing)\n\u001b[0m\u001b[1;32m    729\u001b[0m \u001b[0;34m\u001b[0m\u001b[0m\n\u001b[1;32m    730\u001b[0m   def evaluate(self,\n",
      "\u001b[0;32m/opt/conda/lib/python3.7/site-packages/tensorflow_core/python/keras/engine/training_v2.py\u001b[0m in \u001b[0;36mfit\u001b[0;34m(self, model, x, y, batch_size, epochs, verbose, callbacks, validation_split, validation_data, shuffle, class_weight, sample_weight, initial_epoch, steps_per_epoch, validation_steps, validation_freq, **kwargs)\u001b[0m\n\u001b[1;32m    222\u001b[0m           \u001b[0mvalidation_data\u001b[0m\u001b[0;34m=\u001b[0m\u001b[0mvalidation_data\u001b[0m\u001b[0;34m,\u001b[0m\u001b[0;34m\u001b[0m\u001b[0;34m\u001b[0m\u001b[0m\n\u001b[1;32m    223\u001b[0m           \u001b[0mvalidation_steps\u001b[0m\u001b[0;34m=\u001b[0m\u001b[0mvalidation_steps\u001b[0m\u001b[0;34m,\u001b[0m\u001b[0;34m\u001b[0m\u001b[0;34m\u001b[0m\u001b[0m\n\u001b[0;32m--> 224\u001b[0;31m           distribution_strategy=strategy)\n\u001b[0m\u001b[1;32m    225\u001b[0m \u001b[0;34m\u001b[0m\u001b[0m\n\u001b[1;32m    226\u001b[0m       \u001b[0mtotal_samples\u001b[0m \u001b[0;34m=\u001b[0m \u001b[0m_get_total_number_of_samples\u001b[0m\u001b[0;34m(\u001b[0m\u001b[0mtraining_data_adapter\u001b[0m\u001b[0;34m)\u001b[0m\u001b[0;34m\u001b[0m\u001b[0;34m\u001b[0m\u001b[0m\n",
      "\u001b[0;32m/opt/conda/lib/python3.7/site-packages/tensorflow_core/python/keras/engine/training_v2.py\u001b[0m in \u001b[0;36m_process_training_inputs\u001b[0;34m(model, x, y, batch_size, epochs, sample_weights, class_weights, steps_per_epoch, validation_split, validation_data, validation_steps, shuffle, distribution_strategy, max_queue_size, workers, use_multiprocessing)\u001b[0m\n\u001b[1;32m    545\u001b[0m         \u001b[0mmax_queue_size\u001b[0m\u001b[0;34m=\u001b[0m\u001b[0mmax_queue_size\u001b[0m\u001b[0;34m,\u001b[0m\u001b[0;34m\u001b[0m\u001b[0;34m\u001b[0m\u001b[0m\n\u001b[1;32m    546\u001b[0m         \u001b[0mworkers\u001b[0m\u001b[0;34m=\u001b[0m\u001b[0mworkers\u001b[0m\u001b[0;34m,\u001b[0m\u001b[0;34m\u001b[0m\u001b[0;34m\u001b[0m\u001b[0m\n\u001b[0;32m--> 547\u001b[0;31m         use_multiprocessing=use_multiprocessing)\n\u001b[0m\u001b[1;32m    548\u001b[0m     \u001b[0mval_adapter\u001b[0m \u001b[0;34m=\u001b[0m \u001b[0;32mNone\u001b[0m\u001b[0;34m\u001b[0m\u001b[0;34m\u001b[0m\u001b[0m\n\u001b[1;32m    549\u001b[0m     \u001b[0;32mif\u001b[0m \u001b[0mvalidation_data\u001b[0m\u001b[0;34m:\u001b[0m\u001b[0;34m\u001b[0m\u001b[0;34m\u001b[0m\u001b[0m\n",
      "\u001b[0;32m/opt/conda/lib/python3.7/site-packages/tensorflow_core/python/keras/engine/training_v2.py\u001b[0m in \u001b[0;36m_process_inputs\u001b[0;34m(model, x, y, batch_size, epochs, sample_weights, class_weights, shuffle, steps, distribution_strategy, max_queue_size, workers, use_multiprocessing)\u001b[0m\n\u001b[1;32m    592\u001b[0m         \u001b[0mbatch_size\u001b[0m\u001b[0;34m=\u001b[0m\u001b[0mbatch_size\u001b[0m\u001b[0;34m,\u001b[0m\u001b[0;34m\u001b[0m\u001b[0;34m\u001b[0m\u001b[0m\n\u001b[1;32m    593\u001b[0m         \u001b[0mcheck_steps\u001b[0m\u001b[0;34m=\u001b[0m\u001b[0;32mFalse\u001b[0m\u001b[0;34m,\u001b[0m\u001b[0;34m\u001b[0m\u001b[0;34m\u001b[0m\u001b[0m\n\u001b[0;32m--> 594\u001b[0;31m         steps=steps)\n\u001b[0m\u001b[1;32m    595\u001b[0m   adapter = adapter_cls(\n\u001b[1;32m    596\u001b[0m       \u001b[0mx\u001b[0m\u001b[0;34m,\u001b[0m\u001b[0;34m\u001b[0m\u001b[0;34m\u001b[0m\u001b[0m\n",
      "\u001b[0;32m/opt/conda/lib/python3.7/site-packages/tensorflow_core/python/keras/engine/training.py\u001b[0m in \u001b[0;36m_standardize_user_data\u001b[0;34m(self, x, y, sample_weight, class_weight, batch_size, check_steps, steps_name, steps, validation_split, shuffle, extract_tensors_from_dataset)\u001b[0m\n\u001b[1;32m   2470\u001b[0m           \u001b[0mfeed_input_shapes\u001b[0m\u001b[0;34m,\u001b[0m\u001b[0;34m\u001b[0m\u001b[0;34m\u001b[0m\u001b[0m\n\u001b[1;32m   2471\u001b[0m           \u001b[0mcheck_batch_axis\u001b[0m\u001b[0;34m=\u001b[0m\u001b[0;32mFalse\u001b[0m\u001b[0;34m,\u001b[0m  \u001b[0;31m# Don't enforce the batch size.\u001b[0m\u001b[0;34m\u001b[0m\u001b[0;34m\u001b[0m\u001b[0m\n\u001b[0;32m-> 2472\u001b[0;31m           exception_prefix='input')\n\u001b[0m\u001b[1;32m   2473\u001b[0m \u001b[0;34m\u001b[0m\u001b[0m\n\u001b[1;32m   2474\u001b[0m     \u001b[0;31m# Get typespecs for the input data and sanitize it if necessary.\u001b[0m\u001b[0;34m\u001b[0m\u001b[0;34m\u001b[0m\u001b[0;34m\u001b[0m\u001b[0m\n",
      "\u001b[0;32m/opt/conda/lib/python3.7/site-packages/tensorflow_core/python/keras/engine/training_utils.py\u001b[0m in \u001b[0;36mstandardize_input_data\u001b[0;34m(data, names, shapes, check_batch_axis, exception_prefix)\u001b[0m\n\u001b[1;32m    563\u001b[0m                            \u001b[0;34m': expected '\u001b[0m \u001b[0;34m+\u001b[0m \u001b[0mnames\u001b[0m\u001b[0;34m[\u001b[0m\u001b[0mi\u001b[0m\u001b[0;34m]\u001b[0m \u001b[0;34m+\u001b[0m \u001b[0;34m' to have '\u001b[0m \u001b[0;34m+\u001b[0m\u001b[0;34m\u001b[0m\u001b[0;34m\u001b[0m\u001b[0m\n\u001b[1;32m    564\u001b[0m                            \u001b[0mstr\u001b[0m\u001b[0;34m(\u001b[0m\u001b[0mlen\u001b[0m\u001b[0;34m(\u001b[0m\u001b[0mshape\u001b[0m\u001b[0;34m)\u001b[0m\u001b[0;34m)\u001b[0m \u001b[0;34m+\u001b[0m \u001b[0;34m' dimensions, but got array '\u001b[0m\u001b[0;34m\u001b[0m\u001b[0;34m\u001b[0m\u001b[0m\n\u001b[0;32m--> 565\u001b[0;31m                            'with shape ' + str(data_shape))\n\u001b[0m\u001b[1;32m    566\u001b[0m         \u001b[0;32mif\u001b[0m \u001b[0;32mnot\u001b[0m \u001b[0mcheck_batch_axis\u001b[0m\u001b[0;34m:\u001b[0m\u001b[0;34m\u001b[0m\u001b[0;34m\u001b[0m\u001b[0m\n\u001b[1;32m    567\u001b[0m           \u001b[0mdata_shape\u001b[0m \u001b[0;34m=\u001b[0m \u001b[0mdata_shape\u001b[0m\u001b[0;34m[\u001b[0m\u001b[0;36m1\u001b[0m\u001b[0;34m:\u001b[0m\u001b[0;34m]\u001b[0m\u001b[0;34m\u001b[0m\u001b[0;34m\u001b[0m\u001b[0m\n",
      "\u001b[0;31mValueError\u001b[0m: Error when checking input: expected conv2d_input to have 4 dimensions, but got array with shape (60000, 28, 28)"
     ]
    }
   ],
   "source": [
    "# Fit the model\n",
    "\n",
    "model.fit(train_images, train_labels, epochs=2, batch_size=256)"
   ]
  },
  {
   "cell_type": "code",
   "execution_count": 18,
   "metadata": {},
   "outputs": [
    {
     "name": "stdout",
     "output_type": "stream",
     "text": [
      "Train on 60000 samples\n",
      "Epoch 1/2\n",
      "60000/60000 [==============================] - 54s 906us/sample - loss: 0.5668 - sparse_categorical_accuracy: 0.8029 - mean_absolute_error: 4.4200\n",
      "Epoch 2/2\n",
      "60000/60000 [==============================] - 52s 872us/sample - loss: 0.3682 - sparse_categorical_accuracy: 0.8701 - mean_absolute_error: 4.4200\n"
     ]
    }
   ],
   "source": [
    "# Fit the model\n",
    "# error was because, expected conv2d_input to have 4 dimensions, but got array with shape (60000, 28, 28), lets try again\n",
    "\n",
    "# one way\n",
    "# history = model.fit(train_images[..., np.newaxis], train_labels, epochs=2, batch_size=256)\n",
    "\n",
    "# another way\n",
    "history = model.fit(np.expand_dims(train_images, axis=-1), train_labels, epochs=2, batch_size=256)"
   ]
  },
  {
   "cell_type": "code",
   "execution_count": 19,
   "metadata": {},
   "outputs": [
    {
     "name": "stdout",
     "output_type": "stream",
     "text": [
      "Train on 60000 samples\n",
      "Epoch 1/8\n",
      "60000/60000 - 51s - loss: 0.3310 - sparse_categorical_accuracy: 0.8821 - mean_absolute_error: 4.4200\n",
      "Epoch 2/8\n",
      "60000/60000 - 50s - loss: 0.3133 - sparse_categorical_accuracy: 0.8882 - mean_absolute_error: 4.4200\n",
      "Epoch 3/8\n",
      "60000/60000 - 49s - loss: 0.3006 - sparse_categorical_accuracy: 0.8922 - mean_absolute_error: 4.4200\n",
      "Epoch 4/8\n",
      "60000/60000 - 50s - loss: 0.2922 - sparse_categorical_accuracy: 0.8949 - mean_absolute_error: 4.4200\n",
      "Epoch 5/8\n",
      "60000/60000 - 50s - loss: 0.2854 - sparse_categorical_accuracy: 0.8979 - mean_absolute_error: 4.4200\n",
      "Epoch 6/8\n",
      "60000/60000 - 50s - loss: 0.2784 - sparse_categorical_accuracy: 0.8993 - mean_absolute_error: 4.4200\n",
      "Epoch 7/8\n",
      "60000/60000 - 49s - loss: 0.2714 - sparse_categorical_accuracy: 0.9030 - mean_absolute_error: 4.4200\n",
      "Epoch 8/8\n",
      "60000/60000 - 49s - loss: 0.2663 - sparse_categorical_accuracy: 0.9039 - mean_absolute_error: 4.4200\n"
     ]
    }
   ],
   "source": [
    "history = model.fit(np.expand_dims(train_images, axis=-1), \n",
    "                    train_labels, \n",
    "                    epochs=8, \n",
    "                    batch_size=256, \n",
    "                    verbose=2)"
   ]
  },
  {
   "cell_type": "markdown",
   "metadata": {},
   "source": [
    "#### Plot training history"
   ]
  },
  {
   "cell_type": "code",
   "execution_count": 20,
   "metadata": {},
   "outputs": [
    {
     "data": {
      "text/html": [
       "<div>\n",
       "<style scoped>\n",
       "    .dataframe tbody tr th:only-of-type {\n",
       "        vertical-align: middle;\n",
       "    }\n",
       "\n",
       "    .dataframe tbody tr th {\n",
       "        vertical-align: top;\n",
       "    }\n",
       "\n",
       "    .dataframe thead th {\n",
       "        text-align: right;\n",
       "    }\n",
       "</style>\n",
       "<table border=\"1\" class=\"dataframe\">\n",
       "  <thead>\n",
       "    <tr style=\"text-align: right;\">\n",
       "      <th></th>\n",
       "      <th>loss</th>\n",
       "      <th>sparse_categorical_accuracy</th>\n",
       "      <th>mean_absolute_error</th>\n",
       "    </tr>\n",
       "  </thead>\n",
       "  <tbody>\n",
       "    <tr>\n",
       "      <th>0</th>\n",
       "      <td>0.331006</td>\n",
       "      <td>0.882133</td>\n",
       "      <td>4.419999</td>\n",
       "    </tr>\n",
       "    <tr>\n",
       "      <th>1</th>\n",
       "      <td>0.313345</td>\n",
       "      <td>0.888250</td>\n",
       "      <td>4.420001</td>\n",
       "    </tr>\n",
       "    <tr>\n",
       "      <th>2</th>\n",
       "      <td>0.300639</td>\n",
       "      <td>0.892167</td>\n",
       "      <td>4.420000</td>\n",
       "    </tr>\n",
       "    <tr>\n",
       "      <th>3</th>\n",
       "      <td>0.292159</td>\n",
       "      <td>0.894917</td>\n",
       "      <td>4.420001</td>\n",
       "    </tr>\n",
       "    <tr>\n",
       "      <th>4</th>\n",
       "      <td>0.285380</td>\n",
       "      <td>0.897933</td>\n",
       "      <td>4.420000</td>\n",
       "    </tr>\n",
       "  </tbody>\n",
       "</table>\n",
       "</div>"
      ],
      "text/plain": [
       "       loss  sparse_categorical_accuracy  mean_absolute_error\n",
       "0  0.331006                     0.882133             4.419999\n",
       "1  0.313345                     0.888250             4.420001\n",
       "2  0.300639                     0.892167             4.420000\n",
       "3  0.292159                     0.894917             4.420001\n",
       "4  0.285380                     0.897933             4.420000"
      ]
     },
     "execution_count": 20,
     "metadata": {},
     "output_type": "execute_result"
    }
   ],
   "source": [
    "# Load the history into a pandas Dataframe\n",
    "df = pd.DataFrame(history.history)\n",
    "df.head()"
   ]
  },
  {
   "cell_type": "code",
   "execution_count": 21,
   "metadata": {},
   "outputs": [
    {
     "data": {
      "text/plain": [
       "[Text(0, 0.5, 'Loss'), Text(0.5, 0, 'Epochs')]"
      ]
     },
     "execution_count": 21,
     "metadata": {},
     "output_type": "execute_result"
    },
    {
     "data": {
      "image/png": "[encoded data removed]",
      "text/plain": [
       "<Figure size 432x288 with 1 Axes>"
      ]
     },
     "metadata": {
      "needs_background": "light"
     },
     "output_type": "display_data"
    }
   ],
   "source": [
    "# Make a plot for the loss\n",
    "loss_plot = df.plot(y='loss', title='loss vs. epochs', legend=False)\n",
    "loss_plot.set(xlabel='Epochs', ylabel='Loss')\n"
   ]
  },
  {
   "cell_type": "code",
   "execution_count": 22,
   "metadata": {},
   "outputs": [
    {
     "data": {
      "text/plain": [
       "[Text(0, 0.5, 'Accuracy'), Text(0.5, 0, 'Epochs')]"
      ]
     },
     "execution_count": 22,
     "metadata": {},
     "output_type": "execute_result"
    },
    {
     "data": {
      "image/png": "[encoded data removed]",
      "text/plain": [
       "<Figure size 432x288 with 1 Axes>"
      ]
     },
     "metadata": {
      "needs_background": "light"
     },
     "output_type": "display_data"
    }
   ],
   "source": [
    "# Make a plot for the accuracy\n",
    "loss_plot = df.plot(y='sparse_categorical_accuracy', title='accuracy vs. epochs', legend=False)\n",
    "loss_plot.set(xlabel='Epochs', ylabel='Accuracy')\n"
   ]
  },
  {
   "cell_type": "code",
   "execution_count": 23,
   "metadata": {},
   "outputs": [
    {
     "data": {
      "text/plain": [
       "[Text(0, 0.5, 'MAE'), Text(0.5, 0, 'Epochs')]"
      ]
     },
     "execution_count": 23,
     "metadata": {},
     "output_type": "execute_result"
    },
    {
     "data": {
      "image/png": "[encoded data removed]",
      "text/plain": [
       "<Figure size 432x288 with 1 Axes>"
      ]
     },
     "metadata": {
      "needs_background": "light"
     },
     "output_type": "display_data"
    }
   ],
   "source": [
    "# Make a plot for the additional metric\n",
    "loss_plot = df.plot(y='mean_absolute_error', title='MAE vs. epochs', legend=False)\n",
    "loss_plot.set(xlabel='Epochs', ylabel='MAE')"
   ]
  },
  {
   "cell_type": "markdown",
   "metadata": {},
   "source": [
    "***\n",
    "<a id=\"coding_tutorial_5\"></a>\n",
    "## The evaluate and predict methods"
   ]
  },
  {
   "cell_type": "code",
   "execution_count": 24,
   "metadata": {},
   "outputs": [],
   "source": [
    "import matplotlib.pyplot as plt\n",
    "import numpy as np"
   ]
  },
  {
   "cell_type": "markdown",
   "metadata": {},
   "source": [
    "#### Evaluate the model on the test set"
   ]
  },
  {
   "cell_type": "code",
   "execution_count": 25,
   "metadata": {},
   "outputs": [
    {
     "name": "stdout",
     "output_type": "stream",
     "text": [
      "10000/1 - 6s - loss: 0.3557 - sparse_categorical_accuracy: 0.8817 - mean_absolute_error: 4.4200\n"
     ]
    },
    {
     "data": {
      "text/plain": [
       "[0.32013597425222395, 0.8817, 4.419997]"
      ]
     },
     "execution_count": 25,
     "metadata": {},
     "output_type": "execute_result"
    }
   ],
   "source": [
    "# Evaluate the model\n",
    "model.evaluate(test_images[..., np.newaxis], test_labels, verbose=2)\n"
   ]
  },
  {
   "cell_type": "markdown",
   "metadata": {},
   "source": [
    "#### Make predictions from the model"
   ]
  },
  {
   "cell_type": "code",
   "execution_count": 26,
   "metadata": {},
   "outputs": [
    {
     "name": "stdout",
     "output_type": "stream",
     "text": [
      "(28, 28)\n"
     ]
    },
    {
     "data": {
      "image/png": "[encoded data removed]",
      "text/plain": [
       "<Figure size 432x288 with 1 Axes>"
      ]
     },
     "metadata": {
      "needs_background": "light"
     },
     "output_type": "display_data"
    },
    {
     "name": "stdout",
     "output_type": "stream",
     "text": [
      "Label: Bag\n"
     ]
    }
   ],
   "source": [
    "# Choose a random test image\n",
    "\n",
    "# random_inx = np.random.choice(test_images.shape[0])\n",
    "random_idx = 30\n",
    "\n",
    "test_image = test_images[random_idx, :, :]\n",
    "print(test_image.shape)\n",
    "plt.imshow(test_image)\n",
    "plt.show()\n",
    "print(f\"Label: {labels[test_labels[random_idx]]}\")\n"
   ]
  },
  {
   "cell_type": "code",
   "execution_count": 31,
   "metadata": {},
   "outputs": [
    {
     "data": {
      "text/plain": [
       "array([[1.9458339e-09, 1.3605845e-12, 8.7626892e-09, 5.9290870e-09,\n",
       "        2.7201987e-09, 9.9848680e-12, 1.8583442e-08, 3.1904107e-13,\n",
       "        1.0000000e+00, 2.8807583e-12]], dtype=float32)"
      ]
     },
     "execution_count": 31,
     "metadata": {},
     "output_type": "execute_result"
    }
   ],
   "source": [
    "# Get the model predictions\n",
    "model.predict(test_image[np.newaxis, ..., np.newaxis])"
   ]
  },
  {
   "cell_type": "code",
   "execution_count": 32,
   "metadata": {},
   "outputs": [
    {
     "name": "stdout",
     "output_type": "stream",
     "text": [
      "Model Prediction - Bag\n"
     ]
    }
   ],
   "source": [
    "ans = model.predict(test_image[np.newaxis, ..., np.newaxis])\n",
    "print(f\"Model Prediction - {labels[np.argmax(ans)]}\")"
   ]
  },
  {
   "cell_type": "code",
   "execution_count": null,
   "metadata": {},
   "outputs": [],
   "source": []
  }
 ],
 "metadata": {
  "kernelspec": {
   "display_name": "Python 3",
   "language": "python",
   "name": "python3"
  },
  "language_info": {
   "codemirror_mode": {
    "name": "ipython",
    "version": 3
   },
   "file_extension": ".py",
   "mimetype": "text/x-python",
   "name": "python",
   "nbconvert_exporter": "python",
   "pygments_lexer": "ipython3",
   "version": "3.7.1"
  }
 },
 "nbformat": 4,
 "nbformat_minor": 2
}
