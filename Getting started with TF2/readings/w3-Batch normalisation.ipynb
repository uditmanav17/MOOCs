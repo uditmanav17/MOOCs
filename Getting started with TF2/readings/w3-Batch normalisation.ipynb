{
 "cells": [
  {
   "cell_type": "markdown",
   "metadata": {},
   "source": [
    "# Batch normalisation layers\n",
    "\n",
    "In this reading we will look at incorporating batch normalisation into our models and look at an example of how we do this in practice.\n",
    "\n",
    "As usual, let's first import tensorflow."
   ]
  },
  {
   "cell_type": "code",
   "execution_count": 1,
   "metadata": {},
   "outputs": [
    {
     "name": "stdout",
     "output_type": "stream",
     "text": [
      "2.0.0\n"
     ]
    }
   ],
   "source": [
    "import tensorflow as tf\n",
    "print(tf.__version__)"
   ]
  },
  {
   "cell_type": "markdown",
   "metadata": {},
   "source": [
    "We will be working with the diabetes dataset that we have been using in this week's screencasts. \n",
    "\n",
    "Let's load and pre-process the dataset."
   ]
  },
  {
   "cell_type": "code",
   "execution_count": 2,
   "metadata": {},
   "outputs": [],
   "source": [
    "# Load the dataset\n",
    "\n",
    "from sklearn.datasets import load_diabetes\n",
    "diabetes_dataset = load_diabetes()"
   ]
  },
  {
   "cell_type": "code",
   "execution_count": 7,
   "metadata": {},
   "outputs": [
    {
     "name": "stdout",
     "output_type": "stream",
     "text": [
      "[[ 0.03807591  0.05068012  0.06169621  0.02187235 -0.0442235  -0.03482076\n",
      "  -0.04340085 -0.00259226  0.01990842 -0.01764613]\n",
      " [-0.00188202 -0.04464164 -0.05147406 -0.02632783 -0.00844872 -0.01916334\n",
      "   0.07441156 -0.03949338 -0.06832974 -0.09220405]\n",
      " [ 0.08529891  0.05068012  0.04445121 -0.00567061 -0.04559945 -0.03419447\n",
      "  -0.03235593 -0.00259226  0.00286377 -0.02593034]\n",
      " [-0.08906294 -0.04464164 -0.01159501 -0.03665645  0.01219057  0.02499059\n",
      "  -0.03603757  0.03430886  0.02269202 -0.00936191]\n",
      " [ 0.00538306 -0.04464164 -0.03638469  0.02187235  0.00393485  0.01559614\n",
      "   0.00814208 -0.00259226 -0.03199144 -0.04664087]]\n",
      "[151.  75. 141. 206. 135.]\n"
     ]
    }
   ],
   "source": [
    "# Save the input and target variables\n",
    "\n",
    "from sklearn.model_selection import train_test_split\n",
    "\n",
    "data = diabetes_dataset['data']\n",
    "print(data[:5])\n",
    "targets = diabetes_dataset['target']\n",
    "print(targets[:5])"
   ]
  },
  {
   "cell_type": "code",
   "execution_count": 4,
   "metadata": {},
   "outputs": [],
   "source": [
    "# Normalise the target data (this will make clearer training curves)\n",
    "\n",
    "targets = (targets - targets.mean(axis=0)) / (targets.std())"
   ]
  },
  {
   "cell_type": "code",
   "execution_count": 5,
   "metadata": {},
   "outputs": [],
   "source": [
    "# Split the dataset into training and test datasets \n",
    "\n",
    "train_data, test_data, train_targets, test_targets = train_test_split(data, targets, test_size=0.1)"
   ]
  },
  {
   "cell_type": "markdown",
   "metadata": {},
   "source": [
    "### Batch normalisation - defining the model"
   ]
  },
  {
   "cell_type": "markdown",
   "metadata": {},
   "source": [
    "We can implement batch normalisation into our model by adding it in the same way as any other layer."
   ]
  },
  {
   "cell_type": "code",
   "execution_count": 8,
   "metadata": {},
   "outputs": [],
   "source": [
    "from tensorflow.keras.models import Sequential\n",
    "from tensorflow.keras.layers import Flatten, Dense, Conv2D, MaxPooling2D, BatchNormalization, Dropout"
   ]
  },
  {
   "cell_type": "code",
   "execution_count": 9,
   "metadata": {},
   "outputs": [],
   "source": [
    "# Build the model\n",
    "\n",
    "model = Sequential([\n",
    "    Dense(64, input_shape=[train_data.shape[1],], activation=\"relu\"),\n",
    "    BatchNormalization(),  # <- Batch normalisation layer\n",
    "    Dropout(0.5),\n",
    "    BatchNormalization(),  # <- Batch normalisation layer\n",
    "    Dropout(0.5),\n",
    "    Dense(256, activation='relu'),\n",
    "])\n",
    "\n",
    "# NB: We have not added the output layer because we still have more layers to add!"
   ]
  },
  {
   "cell_type": "code",
   "execution_count": 10,
   "metadata": {
    "scrolled": true
   },
   "outputs": [
    {
     "name": "stdout",
     "output_type": "stream",
     "text": [
      "Model: \"sequential\"\n",
      "_________________________________________________________________\n",
      "Layer (type)                 Output Shape              Param #   \n",
      "=================================================================\n",
      "dense (Dense)                (None, 64)                704       \n",
      "_________________________________________________________________\n",
      "batch_normalization (BatchNo (None, 64)                256       \n",
      "_________________________________________________________________\n",
      "dropout (Dropout)            (None, 64)                0         \n",
      "_________________________________________________________________\n",
      "batch_normalization_1 (Batch (None, 64)                256       \n",
      "_________________________________________________________________\n",
      "dropout_1 (Dropout)          (None, 64)                0         \n",
      "_________________________________________________________________\n",
      "dense_1 (Dense)              (None, 256)               16640     \n",
      "=================================================================\n",
      "Total params: 17,856\n",
      "Trainable params: 17,600\n",
      "Non-trainable params: 256\n",
      "_________________________________________________________________\n"
     ]
    }
   ],
   "source": [
    "# Print the model summary\n",
    "\n",
    "model.summary()"
   ]
  },
  {
   "cell_type": "markdown",
   "metadata": {},
   "source": [
    "Recall that there are some parameters and hyperparameters associated with batch normalisation.\n",
    "\n",
    "* The hyperparameter **momentum** is the weighting given to the previous running mean when re-computing it with an extra minibatch. By **default**, it is set to 0.99.\n",
    "\n",
    "* The hyperparameter **$\\epsilon$** is used for numeric stability when performing the normalisation over the minibatch. By **default** it is set to 0.001.\n",
    "\n",
    "* The parameters **$\\beta$** and **$\\gamma$** are used to implement an affine transformation after normalisation. By **default**, $\\beta$ is an all-zeros vector, and $\\gamma$ is an all-ones vector.\n",
    "\n",
    "### Customising parameters\n",
    "These can all be changed (along with various other properties) by adding optional arguments to `tf.keras.layers.BatchNormalization()`.\n",
    "\n",
    "We can also specify the axis for batch normalisation. By default, it is set as -1.\n",
    "\n",
    "Let's see an example."
   ]
  },
  {
   "cell_type": "code",
   "execution_count": 11,
   "metadata": {},
   "outputs": [],
   "source": [
    "# Add a customised batch normalisation layer\n",
    "\n",
    "model.add(tf.keras.layers.BatchNormalization(\n",
    "    momentum=0.95, \n",
    "    epsilon=0.005,\n",
    "    axis = -1,\n",
    "    beta_initializer=tf.keras.initializers.RandomNormal(mean=0.0, stddev=0.05), \n",
    "    gamma_initializer=tf.keras.initializers.Constant(value=0.9)\n",
    "))"
   ]
  },
  {
   "cell_type": "code",
   "execution_count": 12,
   "metadata": {},
   "outputs": [],
   "source": [
    "# Add the output layer\n",
    "\n",
    "model.add(Dense(1))"
   ]
  },
  {
   "cell_type": "markdown",
   "metadata": {},
   "source": [
    "## Compile and fit the model"
   ]
  },
  {
   "cell_type": "markdown",
   "metadata": {},
   "source": [
    "Let's now compile and fit our model with batch normalisation, and track the progress on training and validation sets.\n",
    "\n",
    "First we compile our model."
   ]
  },
  {
   "cell_type": "code",
   "execution_count": 13,
   "metadata": {},
   "outputs": [],
   "source": [
    "# Compile the model\n",
    "\n",
    "model.compile(optimizer='adam',\n",
    "              loss='mse',\n",
    "              metrics=['mae'])"
   ]
  },
  {
   "cell_type": "markdown",
   "metadata": {},
   "source": [
    "Now we fit the model to the data."
   ]
  },
  {
   "cell_type": "code",
   "execution_count": 15,
   "metadata": {},
   "outputs": [
    {
     "name": "stdout",
     "output_type": "stream",
     "text": [
      "Train on 337 samples, validate on 60 samples\n",
      "Epoch 1/100\n",
      "337/337 - 0s - loss: 0.5780 - mae: 0.6094 - val_loss: 0.8946 - val_mae: 0.8104\n",
      "Epoch 2/100\n",
      "337/337 - 0s - loss: 0.5686 - mae: 0.5899 - val_loss: 0.8758 - val_mae: 0.8037\n",
      "Epoch 3/100\n",
      "337/337 - 0s - loss: 0.6174 - mae: 0.6416 - val_loss: 0.8680 - val_mae: 0.7993\n",
      "Epoch 4/100\n",
      "337/337 - 0s - loss: 0.5406 - mae: 0.5905 - val_loss: 0.8762 - val_mae: 0.8029\n",
      "Epoch 5/100\n",
      "337/337 - 0s - loss: 0.6096 - mae: 0.6449 - val_loss: 0.8909 - val_mae: 0.8064\n",
      "Epoch 6/100\n",
      "337/337 - 0s - loss: 0.5954 - mae: 0.6290 - val_loss: 0.9067 - val_mae: 0.8134\n",
      "Epoch 7/100\n",
      "337/337 - 0s - loss: 0.6229 - mae: 0.6457 - val_loss: 0.8906 - val_mae: 0.8086\n",
      "Epoch 8/100\n",
      "337/337 - 0s - loss: 0.5805 - mae: 0.6208 - val_loss: 0.8751 - val_mae: 0.8016\n",
      "Epoch 9/100\n",
      "337/337 - 0s - loss: 0.5370 - mae: 0.5970 - val_loss: 0.8741 - val_mae: 0.7991\n",
      "Epoch 10/100\n",
      "337/337 - 0s - loss: 0.6169 - mae: 0.6408 - val_loss: 0.8742 - val_mae: 0.7960\n",
      "Epoch 11/100\n",
      "337/337 - 0s - loss: 0.5396 - mae: 0.5847 - val_loss: 0.8498 - val_mae: 0.7863\n",
      "Epoch 12/100\n",
      "337/337 - 0s - loss: 0.5967 - mae: 0.6358 - val_loss: 0.8458 - val_mae: 0.7860\n",
      "Epoch 13/100\n",
      "337/337 - 0s - loss: 0.5870 - mae: 0.6150 - val_loss: 0.8577 - val_mae: 0.7947\n",
      "Epoch 14/100\n",
      "337/337 - 0s - loss: 0.5676 - mae: 0.6157 - val_loss: 0.8655 - val_mae: 0.7970\n",
      "Epoch 15/100\n",
      "337/337 - 0s - loss: 0.5805 - mae: 0.6171 - val_loss: 0.8492 - val_mae: 0.7871\n",
      "Epoch 16/100\n",
      "337/337 - 0s - loss: 0.5598 - mae: 0.6176 - val_loss: 0.8450 - val_mae: 0.7865\n",
      "Epoch 17/100\n",
      "337/337 - 0s - loss: 0.6030 - mae: 0.6357 - val_loss: 0.8676 - val_mae: 0.7988\n",
      "Epoch 18/100\n",
      "337/337 - 0s - loss: 0.5595 - mae: 0.6087 - val_loss: 0.8668 - val_mae: 0.7961\n",
      "Epoch 19/100\n",
      "337/337 - 0s - loss: 0.6171 - mae: 0.6374 - val_loss: 0.8515 - val_mae: 0.7859\n",
      "Epoch 20/100\n",
      "337/337 - 0s - loss: 0.5859 - mae: 0.6098 - val_loss: 0.8243 - val_mae: 0.7708\n",
      "Epoch 21/100\n",
      "337/337 - 0s - loss: 0.6033 - mae: 0.6324 - val_loss: 0.7856 - val_mae: 0.7537\n",
      "Epoch 22/100\n",
      "337/337 - 0s - loss: 0.5023 - mae: 0.5876 - val_loss: 0.7697 - val_mae: 0.7476\n",
      "Epoch 23/100\n",
      "337/337 - 0s - loss: 0.5319 - mae: 0.5964 - val_loss: 0.7843 - val_mae: 0.7567\n",
      "Epoch 24/100\n",
      "337/337 - 0s - loss: 0.5208 - mae: 0.5883 - val_loss: 0.7789 - val_mae: 0.7528\n",
      "Epoch 25/100\n",
      "337/337 - 0s - loss: 0.5507 - mae: 0.5981 - val_loss: 0.7718 - val_mae: 0.7455\n",
      "Epoch 26/100\n",
      "337/337 - 0s - loss: 0.5508 - mae: 0.5952 - val_loss: 0.7541 - val_mae: 0.7318\n",
      "Epoch 27/100\n",
      "337/337 - 0s - loss: 0.5781 - mae: 0.6288 - val_loss: 0.7654 - val_mae: 0.7404\n",
      "Epoch 28/100\n",
      "337/337 - 0s - loss: 0.5770 - mae: 0.6179 - val_loss: 0.7593 - val_mae: 0.7401\n",
      "Epoch 29/100\n",
      "337/337 - 0s - loss: 0.6059 - mae: 0.6341 - val_loss: 0.7626 - val_mae: 0.7404\n",
      "Epoch 30/100\n",
      "337/337 - 0s - loss: 0.5881 - mae: 0.6248 - val_loss: 0.7396 - val_mae: 0.7206\n",
      "Epoch 31/100\n",
      "337/337 - 0s - loss: 0.5909 - mae: 0.6121 - val_loss: 0.7588 - val_mae: 0.7258\n",
      "Epoch 32/100\n",
      "337/337 - 0s - loss: 0.5942 - mae: 0.6229 - val_loss: 0.7903 - val_mae: 0.7449\n",
      "Epoch 33/100\n",
      "337/337 - 0s - loss: 0.5669 - mae: 0.6115 - val_loss: 0.8015 - val_mae: 0.7498\n",
      "Epoch 34/100\n",
      "337/337 - 0s - loss: 0.5725 - mae: 0.6132 - val_loss: 0.7970 - val_mae: 0.7512\n",
      "Epoch 35/100\n",
      "337/337 - 0s - loss: 0.6201 - mae: 0.6413 - val_loss: 0.7598 - val_mae: 0.7328\n",
      "Epoch 36/100\n",
      "337/337 - 0s - loss: 0.5453 - mae: 0.5953 - val_loss: 0.7404 - val_mae: 0.7161\n",
      "Epoch 37/100\n",
      "337/337 - 0s - loss: 0.5638 - mae: 0.6140 - val_loss: 0.7488 - val_mae: 0.7127\n",
      "Epoch 38/100\n",
      "337/337 - 0s - loss: 0.5749 - mae: 0.6274 - val_loss: 0.7830 - val_mae: 0.7280\n",
      "Epoch 39/100\n",
      "337/337 - 0s - loss: 0.4798 - mae: 0.5506 - val_loss: 0.8009 - val_mae: 0.7389\n",
      "Epoch 40/100\n",
      "337/337 - 0s - loss: 0.4764 - mae: 0.5690 - val_loss: 0.8097 - val_mae: 0.7324\n",
      "Epoch 41/100\n",
      "337/337 - 0s - loss: 0.5553 - mae: 0.6106 - val_loss: 0.7860 - val_mae: 0.7132\n",
      "Epoch 42/100\n",
      "337/337 - 0s - loss: 0.5204 - mae: 0.5840 - val_loss: 0.7874 - val_mae: 0.7105\n",
      "Epoch 43/100\n",
      "337/337 - 0s - loss: 0.5598 - mae: 0.6086 - val_loss: 0.7844 - val_mae: 0.7146\n",
      "Epoch 44/100\n",
      "337/337 - 0s - loss: 0.5408 - mae: 0.5975 - val_loss: 0.7867 - val_mae: 0.7193\n",
      "Epoch 45/100\n",
      "337/337 - 0s - loss: 0.5120 - mae: 0.5728 - val_loss: 0.7855 - val_mae: 0.7136\n",
      "Epoch 46/100\n",
      "337/337 - 0s - loss: 0.5276 - mae: 0.5923 - val_loss: 0.7874 - val_mae: 0.7124\n",
      "Epoch 47/100\n",
      "337/337 - 0s - loss: 0.5224 - mae: 0.5818 - val_loss: 0.8020 - val_mae: 0.7214\n",
      "Epoch 48/100\n",
      "337/337 - 0s - loss: 0.5405 - mae: 0.5935 - val_loss: 0.8151 - val_mae: 0.7293\n",
      "Epoch 49/100\n",
      "337/337 - 0s - loss: 0.5765 - mae: 0.6181 - val_loss: 0.7841 - val_mae: 0.7143\n",
      "Epoch 50/100\n",
      "337/337 - 0s - loss: 0.6009 - mae: 0.6397 - val_loss: 0.7530 - val_mae: 0.7070\n",
      "Epoch 51/100\n",
      "337/337 - 0s - loss: 0.5295 - mae: 0.5868 - val_loss: 0.7008 - val_mae: 0.6793\n",
      "Epoch 52/100\n",
      "337/337 - 0s - loss: 0.5483 - mae: 0.5985 - val_loss: 0.6767 - val_mae: 0.6727\n",
      "Epoch 53/100\n",
      "337/337 - 0s - loss: 0.5275 - mae: 0.5817 - val_loss: 0.6674 - val_mae: 0.6665\n",
      "Epoch 54/100\n",
      "337/337 - 0s - loss: 0.5311 - mae: 0.5884 - val_loss: 0.6764 - val_mae: 0.6635\n",
      "Epoch 55/100\n",
      "337/337 - 0s - loss: 0.5369 - mae: 0.5899 - val_loss: 0.6850 - val_mae: 0.6652\n",
      "Epoch 56/100\n",
      "337/337 - 0s - loss: 0.5173 - mae: 0.5698 - val_loss: 0.6955 - val_mae: 0.6704\n",
      "Epoch 57/100\n",
      "337/337 - 0s - loss: 0.5219 - mae: 0.5872 - val_loss: 0.7023 - val_mae: 0.6743\n",
      "Epoch 58/100\n",
      "337/337 - 0s - loss: 0.5109 - mae: 0.5718 - val_loss: 0.6894 - val_mae: 0.6643\n",
      "Epoch 59/100\n",
      "337/337 - 0s - loss: 0.5355 - mae: 0.5894 - val_loss: 0.6890 - val_mae: 0.6613\n",
      "Epoch 60/100\n",
      "337/337 - 0s - loss: 0.5112 - mae: 0.5833 - val_loss: 0.6905 - val_mae: 0.6557\n",
      "Epoch 61/100\n",
      "337/337 - 0s - loss: 0.5062 - mae: 0.5755 - val_loss: 0.6775 - val_mae: 0.6402\n",
      "Epoch 62/100\n",
      "337/337 - 0s - loss: 0.5554 - mae: 0.5918 - val_loss: 0.6915 - val_mae: 0.6442\n",
      "Epoch 63/100\n",
      "337/337 - 0s - loss: 0.4863 - mae: 0.5566 - val_loss: 0.7187 - val_mae: 0.6598\n",
      "Epoch 64/100\n",
      "337/337 - 0s - loss: 0.5424 - mae: 0.6030 - val_loss: 0.7309 - val_mae: 0.6786\n",
      "Epoch 65/100\n",
      "337/337 - 0s - loss: 0.4829 - mae: 0.5707 - val_loss: 0.7148 - val_mae: 0.6646\n",
      "Epoch 66/100\n",
      "337/337 - 0s - loss: 0.5071 - mae: 0.5713 - val_loss: 0.6887 - val_mae: 0.6508\n",
      "Epoch 67/100\n",
      "337/337 - 0s - loss: 0.5393 - mae: 0.5982 - val_loss: 0.6702 - val_mae: 0.6428\n",
      "Epoch 68/100\n",
      "337/337 - 0s - loss: 0.5428 - mae: 0.6062 - val_loss: 0.6779 - val_mae: 0.6476\n",
      "Epoch 69/100\n",
      "337/337 - 0s - loss: 0.5352 - mae: 0.5833 - val_loss: 0.6727 - val_mae: 0.6416\n",
      "Epoch 70/100\n",
      "337/337 - 0s - loss: 0.5285 - mae: 0.5966 - val_loss: 0.6937 - val_mae: 0.6516\n",
      "Epoch 71/100\n",
      "337/337 - 0s - loss: 0.5448 - mae: 0.6006 - val_loss: 0.7176 - val_mae: 0.6684\n",
      "Epoch 72/100\n",
      "337/337 - 0s - loss: 0.5784 - mae: 0.6212 - val_loss: 0.7243 - val_mae: 0.6757\n",
      "Epoch 73/100\n",
      "337/337 - 0s - loss: 0.4975 - mae: 0.5756 - val_loss: 0.7061 - val_mae: 0.6657\n",
      "Epoch 74/100\n",
      "337/337 - 0s - loss: 0.5700 - mae: 0.6151 - val_loss: 0.6941 - val_mae: 0.6597\n",
      "Epoch 75/100\n",
      "337/337 - 0s - loss: 0.4981 - mae: 0.5710 - val_loss: 0.7058 - val_mae: 0.6615\n",
      "Epoch 76/100\n",
      "337/337 - 0s - loss: 0.5114 - mae: 0.5767 - val_loss: 0.7214 - val_mae: 0.6657\n",
      "Epoch 77/100\n",
      "337/337 - 0s - loss: 0.4634 - mae: 0.5513 - val_loss: 0.7333 - val_mae: 0.6765\n",
      "Epoch 78/100\n",
      "337/337 - 0s - loss: 0.5453 - mae: 0.5855 - val_loss: 0.7249 - val_mae: 0.6706\n",
      "Epoch 79/100\n",
      "337/337 - 0s - loss: 0.5883 - mae: 0.6232 - val_loss: 0.7205 - val_mae: 0.6688\n",
      "Epoch 80/100\n",
      "337/337 - 0s - loss: 0.5451 - mae: 0.6038 - val_loss: 0.7411 - val_mae: 0.6848\n",
      "Epoch 81/100\n",
      "337/337 - 0s - loss: 0.5195 - mae: 0.5723 - val_loss: 0.7342 - val_mae: 0.6778\n",
      "Epoch 82/100\n",
      "337/337 - 0s - loss: 0.5509 - mae: 0.5909 - val_loss: 0.7485 - val_mae: 0.6796\n",
      "Epoch 83/100\n",
      "337/337 - 0s - loss: 0.4892 - mae: 0.5723 - val_loss: 0.7281 - val_mae: 0.6681\n",
      "Epoch 84/100\n",
      "337/337 - 0s - loss: 0.5090 - mae: 0.5777 - val_loss: 0.7192 - val_mae: 0.6600\n",
      "Epoch 85/100\n",
      "337/337 - 0s - loss: 0.5043 - mae: 0.5730 - val_loss: 0.6969 - val_mae: 0.6489\n",
      "Epoch 86/100\n",
      "337/337 - 0s - loss: 0.5573 - mae: 0.6009 - val_loss: 0.6747 - val_mae: 0.6426\n",
      "Epoch 87/100\n",
      "337/337 - 0s - loss: 0.4978 - mae: 0.5614 - val_loss: 0.6507 - val_mae: 0.6313\n",
      "Epoch 88/100\n",
      "337/337 - 0s - loss: 0.5107 - mae: 0.5708 - val_loss: 0.6360 - val_mae: 0.6303\n",
      "Epoch 89/100\n",
      "337/337 - 0s - loss: 0.5091 - mae: 0.5789 - val_loss: 0.6349 - val_mae: 0.6312\n"
     ]
    },
    {
     "name": "stdout",
     "output_type": "stream",
     "text": [
      "Epoch 90/100\n",
      "337/337 - 0s - loss: 0.4967 - mae: 0.5699 - val_loss: 0.6347 - val_mae: 0.6243\n",
      "Epoch 91/100\n",
      "337/337 - 0s - loss: 0.5455 - mae: 0.5913 - val_loss: 0.6485 - val_mae: 0.6234\n",
      "Epoch 92/100\n",
      "337/337 - 0s - loss: 0.5564 - mae: 0.6071 - val_loss: 0.6500 - val_mae: 0.6274\n",
      "Epoch 93/100\n",
      "337/337 - 0s - loss: 0.5126 - mae: 0.5694 - val_loss: 0.6564 - val_mae: 0.6325\n",
      "Epoch 94/100\n",
      "337/337 - 0s - loss: 0.5138 - mae: 0.5774 - val_loss: 0.6535 - val_mae: 0.6344\n",
      "Epoch 95/100\n",
      "337/337 - 0s - loss: 0.4882 - mae: 0.5586 - val_loss: 0.6603 - val_mae: 0.6392\n",
      "Epoch 96/100\n",
      "337/337 - 0s - loss: 0.5205 - mae: 0.5870 - val_loss: 0.7004 - val_mae: 0.6614\n",
      "Epoch 97/100\n",
      "337/337 - 0s - loss: 0.5083 - mae: 0.5825 - val_loss: 0.6973 - val_mae: 0.6574\n",
      "Epoch 98/100\n",
      "337/337 - 0s - loss: 0.4504 - mae: 0.5613 - val_loss: 0.7013 - val_mae: 0.6553\n",
      "Epoch 99/100\n",
      "337/337 - 0s - loss: 0.4334 - mae: 0.5315 - val_loss: 0.7124 - val_mae: 0.6535\n",
      "Epoch 100/100\n",
      "337/337 - 0s - loss: 0.5114 - mae: 0.5796 - val_loss: 0.7106 - val_mae: 0.6476\n"
     ]
    }
   ],
   "source": [
    "# Train the model\n",
    "\n",
    "history = model.fit(train_data, train_targets, epochs=100, validation_split=0.15, batch_size=64,verbose=2)"
   ]
  },
  {
   "cell_type": "markdown",
   "metadata": {},
   "source": [
    "Finally, we plot training and validation loss and accuracy to observe how the accuracy of our model improves over time."
   ]
  },
  {
   "cell_type": "code",
   "execution_count": 16,
   "metadata": {},
   "outputs": [
    {
     "data": {
      "text/plain": [
       "<matplotlib.legend.Legend at 0x7f41b8768eb8>"
      ]
     },
     "execution_count": 16,
     "metadata": {},
     "output_type": "execute_result"
    },
    {
     "data": {
      "image/png": "[encoded data removed]",
      "text/plain": [
       "<Figure size 864x288 with 2 Axes>"
      ]
     },
     "metadata": {
      "needs_background": "light"
     },
     "output_type": "display_data"
    }
   ],
   "source": [
    "# Plot the learning curves\n",
    "\n",
    "import pandas as pd\n",
    "import numpy as np\n",
    "import matplotlib.pyplot as plt\n",
    "%matplotlib inline\n",
    "\n",
    "frame = pd.DataFrame(history.history)\n",
    "epochs = np.arange(len(frame))\n",
    "\n",
    "fig = plt.figure(figsize=(12,4))\n",
    "\n",
    "# Loss plot\n",
    "ax = fig.add_subplot(121)\n",
    "ax.plot(epochs, frame['loss'], label=\"Train\")\n",
    "ax.plot(epochs, frame['val_loss'], label=\"Validation\")\n",
    "ax.set_xlabel(\"Epochs\")\n",
    "ax.set_ylabel(\"Loss\")\n",
    "ax.set_title(\"Loss vs Epochs\")\n",
    "ax.legend()\n",
    "\n",
    "# Accuracy plot\n",
    "ax = fig.add_subplot(122)\n",
    "ax.plot(epochs, frame['mae'], label=\"Train\")\n",
    "ax.plot(epochs, frame['val_mae'], label=\"Validation\")\n",
    "ax.set_xlabel(\"Epochs\")\n",
    "ax.set_ylabel(\"Mean Absolute Error\")\n",
    "ax.set_title(\"Mean Absolute Error vs Epochs\")\n",
    "ax.legend()"
   ]
  },
  {
   "cell_type": "markdown",
   "metadata": {},
   "source": [
    "## Further reading and resources \n",
    "* https://keras.io/layers/normalization/\n",
    "* https://www.tensorflow.org/versions/r2.0/api_docs/python/tf/keras/layers/BatchNormalization"
   ]
  }
 ],
 "metadata": {
  "kernelspec": {
   "display_name": "Python 3",
   "language": "python",
   "name": "python3"
  },
  "language_info": {
   "codemirror_mode": {
    "name": "ipython",
    "version": 3
   },
   "file_extension": ".py",
   "mimetype": "text/x-python",
   "name": "python",
   "nbconvert_exporter": "python",
   "pygments_lexer": "ipython3",
   "version": "3.7.1"
  }
 },
 "nbformat": 4,
 "nbformat_minor": 2
}
